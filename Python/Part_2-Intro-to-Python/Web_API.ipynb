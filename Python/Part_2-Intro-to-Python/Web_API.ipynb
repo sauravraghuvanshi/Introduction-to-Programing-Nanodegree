{
 "cells": [
  {
   "cell_type": "code",
   "execution_count": null,
   "metadata": {},
   "outputs": [
    {
     "name": "stdout",
     "output_type": "stream",
     "text": [
      "{'coord': {'lon': -74.006, 'lat': 40.7143}, 'weather': [{'id': 721, 'main': 'Haze', 'description': 'haze', 'icon': '50d'}], 'base': 'stations', 'main': {'temp': 282.48, 'feels_like': 279.49, 'temp_min': 281.46, 'temp_max': 284.46, 'pressure': 1005, 'humidity': 87, 'sea_level': 1005, 'grnd_level': 1004}, 'visibility': 10000, 'wind': {'speed': 6.17, 'deg': 150, 'gust': 8.23}, 'clouds': {'all': 100}, 'dt': 1742496792, 'sys': {'type': 2, 'id': 2037026, 'country': 'US', 'sunrise': 1742468343, 'sunset': 1742512065}, 'timezone': -14400, 'id': 5128581, 'name': 'New York', 'cod': 200}\n"
     ]
    }
   ],
   "source": [
    "import requests\n",
    "\n",
    "r = requests.get('https://api.openweathermap.org/data/2.5/weather?q=New%20York&appid=**********')\n",
    "\n",
    "print(r.json())"
   ]
  },
  {
   "cell_type": "code",
   "execution_count": 2,
   "metadata": {},
   "outputs": [
    {
     "name": "stdout",
     "output_type": "stream",
     "text": [
      "Page not found.\n"
     ]
    }
   ],
   "source": [
    "import requests\n",
    "r = requests.get('https://www.google.com/monkeybagel/')\n",
    "\n",
    "if r.status_code == 404:\n",
    "    print(\"Page not found.\")"
   ]
  },
  {
   "cell_type": "markdown",
   "metadata": {},
   "source": [
    "#Dictionaries"
   ]
  },
  {
   "cell_type": "code",
   "execution_count": 2,
   "metadata": {},
   "outputs": [
    {
     "data": {
      "text/plain": [
       "'value1'"
      ]
     },
     "execution_count": 2,
     "metadata": {},
     "output_type": "execute_result"
    }
   ],
   "source": [
    "d = {'key1': 'value1'}\n",
    "\n",
    "d['key1']"
   ]
  },
  {
   "cell_type": "code",
   "execution_count": 3,
   "metadata": {},
   "outputs": [
    {
     "data": {
      "text/plain": [
       "{'key1': 'value1', 'key2': 'value2'}"
      ]
     },
     "execution_count": 3,
     "metadata": {},
     "output_type": "execute_result"
    }
   ],
   "source": [
    "d[\"key2\"] = \"value2\"\n",
    "\n",
    "d"
   ]
  },
  {
   "cell_type": "code",
   "execution_count": 4,
   "metadata": {},
   "outputs": [
    {
     "data": {
      "text/plain": [
       "{'key1': 'value1', 'key2': 'value2!'}"
      ]
     },
     "execution_count": 4,
     "metadata": {},
     "output_type": "execute_result"
    }
   ],
   "source": [
    "d['key2'] += \"!\"\n",
    "\n",
    "d"
   ]
  },
  {
   "cell_type": "code",
   "execution_count": 5,
   "metadata": {},
   "outputs": [
    {
     "name": "stdout",
     "output_type": "stream",
     "text": [
      "value1!\n"
     ]
    }
   ],
   "source": [
    "print(d['key1'] + d['key2'][-1]) "
   ]
  },
  {
   "cell_type": "code",
   "execution_count": 6,
   "metadata": {},
   "outputs": [
    {
     "data": {
      "text/plain": [
       "{'key1': 'value1', 'key2': 'value2!'}"
      ]
     },
     "execution_count": 6,
     "metadata": {},
     "output_type": "execute_result"
    }
   ],
   "source": [
    "d"
   ]
  },
  {
   "cell_type": "code",
   "execution_count": 7,
   "metadata": {},
   "outputs": [
    {
     "data": {
      "text/plain": [
       "{'key2': 'value2!'}"
      ]
     },
     "execution_count": 7,
     "metadata": {},
     "output_type": "execute_result"
    }
   ],
   "source": [
    "del d['key1']\n",
    "\n",
    "d"
   ]
  },
  {
   "cell_type": "code",
   "execution_count": 9,
   "metadata": {},
   "outputs": [
    {
     "data": {
      "text/plain": [
       "dict_keys(['key2'])"
      ]
     },
     "execution_count": 9,
     "metadata": {},
     "output_type": "execute_result"
    }
   ],
   "source": [
    "d.keys()"
   ]
  },
  {
   "cell_type": "code",
   "execution_count": 10,
   "metadata": {},
   "outputs": [
    {
     "data": {
      "text/plain": [
       "dict_values(['value2!'])"
      ]
     },
     "execution_count": 10,
     "metadata": {},
     "output_type": "execute_result"
    }
   ],
   "source": [
    "d.values()"
   ]
  },
  {
   "cell_type": "code",
   "execution_count": 14,
   "metadata": {},
   "outputs": [
    {
     "name": "stdout",
     "output_type": "stream",
     "text": [
      "('color', 'Black')\n",
      "('number', 24)\n",
      "('animal', 'Tiger')\n",
      "('language', 'Python')\n"
     ]
    }
   ],
   "source": [
    "favorites = {'color': 'Black', 'number': 24, 'animal': 'Tiger', 'language': 'Python'}\n",
    "\n",
    "for items in favorites.items():\n",
    "    print(items)"
   ]
  },
  {
   "cell_type": "code",
   "execution_count": 15,
   "metadata": {},
   "outputs": [
    {
     "name": "stdout",
     "output_type": "stream",
     "text": [
      "color Black\n",
      "number 24\n",
      "animal Tiger\n",
      "language Python\n"
     ]
    }
   ],
   "source": [
    "for key, value in favorites.items():\n",
    "    print(key, value)"
   ]
  },
  {
   "cell_type": "code",
   "execution_count": 16,
   "metadata": {},
   "outputs": [
    {
     "name": "stdout",
     "output_type": "stream",
     "text": [
      "my favorite color is Black\n",
      "my favorite number is 24\n",
      "my favorite animal is Tiger\n",
      "my favorite language is Python\n"
     ]
    }
   ],
   "source": [
    "for key, value in favorites.items():\n",
    "\tprint(f\"my favorite {key} is {value}\")"
   ]
  },
  {
   "cell_type": "code",
   "execution_count": 17,
   "metadata": {},
   "outputs": [
    {
     "name": "stdout",
     "output_type": "stream",
     "text": [
      "['Black', 24, 'Tiger', 'Python']\n"
     ]
    }
   ],
   "source": [
    "list = []\n",
    "for v in favorites.values():\n",
    "    list.append(v)\n",
    "print(list)"
   ]
  },
  {
   "cell_type": "code",
   "execution_count": 18,
   "metadata": {},
   "outputs": [
    {
     "name": "stdout",
     "output_type": "stream",
     "text": [
      "'it' appears 1 time(s) in the string\n",
      "'appears' appears 2 time(s) in the string\n",
      "'that' appears 1 time(s) in the string\n",
      "'the' appears 4 time(s) in the string\n",
      "'most' appears 1 time(s) in the string\n",
      "'in' appears 1 time(s) in the string\n",
      "'sentence' appears 1 time(s) in the string\n"
     ]
    }
   ],
   "source": [
    "str = 'it appears that the the appears the most in the sentence'\n",
    "dict = {}\n",
    "list = str.split(\" \")\n",
    "for word in list:\n",
    "    if word in dict:\n",
    "        dict[word] = dict[word] + 1\n",
    "    else:\n",
    "        dict[word] = 1\n",
    "for key, value in dict.items():\n",
    "    print(f\"\\'{key}\\' appears {value} time(s) in the string\")"
   ]
  },
  {
   "cell_type": "code",
   "execution_count": 19,
   "metadata": {},
   "outputs": [
    {
     "name": "stdout",
     "output_type": "stream",
     "text": [
      "birds\n",
      "fish\n"
     ]
    }
   ],
   "source": [
    "pets = {\n",
    "    'birds': {\n",
    "        'parrot': 'Arthur',\n",
    "        'canary': 'Ford'\n",
    "    },\n",
    "    'fish': {\n",
    "        'goldfish': 'Zaphod',\n",
    "        'koi': 'Trillian'\n",
    "    }\n",
    "}\n",
    "\n",
    "for e in pets:\n",
    "    print(e)"
   ]
  },
  {
   "cell_type": "code",
   "execution_count": 20,
   "metadata": {},
   "outputs": [
    {
     "name": "stdout",
     "output_type": "stream",
     "text": [
      "parrot\n",
      "canary\n"
     ]
    }
   ],
   "source": [
    "for e in pets['birds']:\n",
    "    print(e)"
   ]
  },
  {
   "cell_type": "code",
   "execution_count": 21,
   "metadata": {},
   "outputs": [
    {
     "name": "stdout",
     "output_type": "stream",
     "text": [
      "Arthur\n",
      "Ford\n"
     ]
    }
   ],
   "source": [
    "for e in pets['birds'].values():\n",
    "   print(e)"
   ]
  },
  {
   "cell_type": "code",
   "execution_count": 22,
   "metadata": {},
   "outputs": [],
   "source": [
    "weather = [\n",
    "    {\n",
    "        'date':'today',\n",
    "        'state': 'cloudy',\n",
    "        'temp': 68.5\n",
    "    },\n",
    "    {\n",
    "        'date':'tomorrow',\n",
    "        'state': 'sunny',\n",
    "        'temp': 74.8\n",
    "    }\n",
    "]"
   ]
  },
  {
   "cell_type": "code",
   "execution_count": 23,
   "metadata": {},
   "outputs": [
    {
     "name": "stdout",
     "output_type": "stream",
     "text": [
      "date\n",
      "state\n",
      "temp\n"
     ]
    }
   ],
   "source": [
    "for e in weather[0]:\n",
    "    print(e)"
   ]
  },
  {
   "cell_type": "code",
   "execution_count": 24,
   "metadata": {},
   "outputs": [
    {
     "name": "stdout",
     "output_type": "stream",
     "text": [
      "today\n",
      "cloudy\n",
      "68.5\n"
     ]
    }
   ],
   "source": [
    "for e in weather[0].values():\n",
    "    print(e)"
   ]
  },
  {
   "cell_type": "code",
   "execution_count": 25,
   "metadata": {},
   "outputs": [
    {
     "name": "stdout",
     "output_type": "stream",
     "text": [
      "today\n",
      "cloudy\n",
      "68.5\n",
      "tomorrow\n",
      "sunny\n",
      "74.8\n"
     ]
    }
   ],
   "source": [
    "for e in weather:\n",
    "    print(e['date'])\n",
    "    print(e['state'])\n",
    "    print(e['temp'])"
   ]
  },
  {
   "cell_type": "code",
   "execution_count": 29,
   "metadata": {},
   "outputs": [
    {
     "name": "stdout",
     "output_type": "stream",
     "text": [
      "The weather for today will be cloudy with a temperature of 68.5 degrees.\n",
      "The weather for tomorrow will be sunny with a temperature of 74.8 degrees.\n"
     ]
    }
   ],
   "source": [
    "for forecast in weather:\n",
    "    date = forecast['date']\n",
    "    state = forecast['state']\n",
    "    temp = forecast['temp']\n",
    "    print(f\"The weather for {date} will be {state} with a temperature of {temp} degrees.\")"
   ]
  },
  {
   "cell_type": "code",
   "execution_count": 33,
   "metadata": {},
   "outputs": [
    {
     "name": "stdout",
     "output_type": "stream",
     "text": [
      "{'coord': {'lon': -74.006, 'lat': 40.7143}, 'weather': [{'id': 803, 'main': 'Clouds', 'description': 'broken clouds', 'icon': '04d'}], 'base': 'stations', 'main': {'temp': 287.34, 'feels_like': 285.78, 'temp_min': 287.34, 'temp_max': 287.34, 'pressure': 1010, 'humidity': 37, 'sea_level': 1010, 'grnd_level': 1010}, 'visibility': 10000, 'wind': {'speed': 7.72, 'deg': 250, 'gust': 12.86}, 'clouds': {'all': 75}, 'dt': 1742926146, 'sys': {'type': 1, 'id': 4610, 'country': 'US', 'sunrise': 1742899841, 'sunset': 1742944379}, 'timezone': -14400, 'id': 5128581, 'name': 'New York', 'cod': 200}\n",
      "coord\n",
      "weather\n",
      "base\n",
      "main\n",
      "visibility\n",
      "wind\n",
      "clouds\n",
      "dt\n",
      "sys\n",
      "timezone\n",
      "id\n",
      "name\n",
      "cod\n"
     ]
    }
   ],
   "source": [
    "import requests\n",
    "\n",
    "r = requests.get('https://api.openweathermap.org/data/2.5/weather?q=New%20York&appid=9ee66237b4691b7759a20b99c37aa616')\n",
    "\n",
    "d= r.json()\n",
    "\n",
    "print(d)\n",
    "\n",
    "for key in d:\n",
    "    print(key)"
   ]
  },
  {
   "cell_type": "code",
   "execution_count": 32,
   "metadata": {},
   "outputs": [
    {
     "data": {
      "text/plain": [
       "[{'id': 803, 'main': 'Clouds', 'description': 'broken clouds', 'icon': '04d'}]"
      ]
     },
     "execution_count": 32,
     "metadata": {},
     "output_type": "execute_result"
    }
   ],
   "source": [
    "d[\"weather\"]"
   ]
  },
  {
   "cell_type": "code",
   "execution_count": 34,
   "metadata": {},
   "outputs": [
    {
     "data": {
      "text/plain": [
       "{'temp': 287.34,\n",
       " 'feels_like': 285.78,\n",
       " 'temp_min': 287.34,\n",
       " 'temp_max': 287.34,\n",
       " 'pressure': 1010,\n",
       " 'humidity': 37,\n",
       " 'sea_level': 1010,\n",
       " 'grnd_level': 1010}"
      ]
     },
     "execution_count": 34,
     "metadata": {},
     "output_type": "execute_result"
    }
   ],
   "source": [
    "d[\"main\"]"
   ]
  },
  {
   "cell_type": "code",
   "execution_count": 36,
   "metadata": {},
   "outputs": [
    {
     "data": {
      "text/plain": [
       "287.34"
      ]
     },
     "execution_count": 36,
     "metadata": {},
     "output_type": "execute_result"
    }
   ],
   "source": [
    "d[\"main\"][\"temp_max\"]"
   ]
  },
  {
   "cell_type": "code",
   "execution_count": 37,
   "metadata": {},
   "outputs": [
    {
     "data": {
      "text/plain": [
       "{'coord': {'lon': -74.006, 'lat': 40.7143},\n",
       " 'weather': [{'id': 803,\n",
       "   'main': 'Clouds',\n",
       "   'description': 'broken clouds',\n",
       "   'icon': '04d'}],\n",
       " 'base': 'stations',\n",
       " 'main': {'temp': 287.34,\n",
       "  'feels_like': 285.78,\n",
       "  'temp_min': 287.34,\n",
       "  'temp_max': 287.34,\n",
       "  'pressure': 1010,\n",
       "  'humidity': 37,\n",
       "  'sea_level': 1010,\n",
       "  'grnd_level': 1010},\n",
       " 'visibility': 10000,\n",
       " 'wind': {'speed': 7.72, 'deg': 250, 'gust': 12.86},\n",
       " 'clouds': {'all': 75},\n",
       " 'dt': 1742926146,\n",
       " 'sys': {'type': 1,\n",
       "  'id': 4610,\n",
       "  'country': 'US',\n",
       "  'sunrise': 1742899841,\n",
       "  'sunset': 1742944379},\n",
       " 'timezone': -14400,\n",
       " 'id': 5128581,\n",
       " 'name': 'New York',\n",
       " 'cod': 200}"
      ]
     },
     "execution_count": 37,
     "metadata": {},
     "output_type": "execute_result"
    }
   ],
   "source": [
    "r.json()"
   ]
  },
  {
   "cell_type": "code",
   "execution_count": null,
   "metadata": {},
   "outputs": [],
   "source": []
  }
 ],
 "metadata": {
  "kernelspec": {
   "display_name": "base",
   "language": "python",
   "name": "python3"
  },
  "language_info": {
   "codemirror_mode": {
    "name": "ipython",
    "version": 3
   },
   "file_extension": ".py",
   "mimetype": "text/x-python",
   "name": "python",
   "nbconvert_exporter": "python",
   "pygments_lexer": "ipython3",
   "version": "3.12.4"
  }
 },
 "nbformat": 4,
 "nbformat_minor": 2
}
