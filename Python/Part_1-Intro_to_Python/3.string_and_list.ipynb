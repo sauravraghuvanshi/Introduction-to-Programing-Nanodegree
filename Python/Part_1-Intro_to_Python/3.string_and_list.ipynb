{
 "cells": [
  {
   "cell_type": "code",
   "execution_count": 4,
   "metadata": {},
   "outputs": [
    {
     "data": {
      "text/plain": [
       "True"
      ]
     },
     "execution_count": 4,
     "metadata": {},
     "output_type": "execute_result"
    }
   ],
   "source": [
    "def start_with(long, short):\n",
    "    return long[0: len(short)] == short\n",
    "\n",
    "start_with(\"Banana\", \"Ban\")\n",
    "    "
   ]
  },
  {
   "cell_type": "code",
   "execution_count": 5,
   "metadata": {},
   "outputs": [
    {
     "name": "stdout",
     "output_type": "stream",
     "text": [
      "True\n"
     ]
    }
   ],
   "source": [
    "print(\"banana\".startswith(\"ban\"))"
   ]
  },
  {
   "cell_type": "code",
   "execution_count": 1,
   "metadata": {},
   "outputs": [
    {
     "name": "stdout",
     "output_type": "stream",
     "text": [
      "10\n",
      "9\n",
      "8\n",
      "7\n",
      "6\n",
      "5\n",
      "4\n",
      "3\n",
      "2\n",
      "1\n",
      "Blastoff!\n"
     ]
    }
   ],
   "source": [
    "count = 10\n",
    "while count > 0:\n",
    "    print(count)\n",
    "    count -= 1\n",
    "\n",
    "print(\"Blastoff!\")"
   ]
  },
  {
   "cell_type": "code",
   "execution_count": 2,
   "metadata": {},
   "outputs": [
    {
     "name": "stdout",
     "output_type": "stream",
     "text": [
      "10\n",
      "9\n",
      "8\n",
      "7\n",
      "6\n",
      "5\n",
      "4\n",
      "3\n",
      "2\n",
      "1\n",
      "Blastoff!\n"
     ]
    }
   ],
   "source": [
    "import time\n",
    "count = 10\n",
    "while count > 0:\n",
    "    print(count)\n",
    "    count -= 1\n",
    "    time.sleep(1)\n",
    "\n",
    "print(\"Blastoff!\")"
   ]
  },
  {
   "cell_type": "code",
   "execution_count": 3,
   "metadata": {},
   "outputs": [
    {
     "name": "stdout",
     "output_type": "stream",
     "text": [
      "\n",
      "s\n",
      "so\n",
      "som\n",
      "some\n",
      "somer\n",
      "somera\n",
      "someran\n",
      "somerand\n",
      "somerando\n",
      "somerandom\n",
      "somerandoms\n",
      "somerandomst\n",
      "somerandomstr\n",
      "somerandomstri\n",
      "somerandomstrin\n"
     ]
    }
   ],
   "source": [
    "s = \"somerandomstring\"\n",
    "index = 0\n",
    "while index < len(s):\n",
    "    print(s[0:index])\n",
    "    index += 1"
   ]
  },
  {
   "cell_type": "code",
   "execution_count": 4,
   "metadata": {},
   "outputs": [
    {
     "name": "stdout",
     "output_type": "stream",
     "text": [
      "abracadabra\n",
      "abracadabr\n",
      "abracadab\n",
      "abracada\n",
      "abracad\n",
      "abraca\n",
      "abrac\n",
      "abra\n",
      "abr\n",
      "ab\n",
      "a\n"
     ]
    }
   ],
   "source": [
    "s = \"abracadabra\"\n",
    "index = len(s)\n",
    "while index > 0:\n",
    "    print(s[:index])\n",
    "    index -= 1"
   ]
  },
  {
   "cell_type": "code",
   "execution_count": 6,
   "metadata": {},
   "outputs": [
    {
     "name": "stdout",
     "output_type": "stream",
     "text": [
      "3\n"
     ]
    }
   ],
   "source": [
    "def count_character(string, target):\n",
    "    index = 0\n",
    "    total = 0\n",
    "    while index < len(string):\n",
    "        if string[index] == target:\n",
    "            total += 1\n",
    "        index += 1\n",
    "    return total\n",
    "\n",
    "print(count_character(\"banana\", \"a\"))"
   ]
  },
  {
   "cell_type": "code",
   "execution_count": 8,
   "metadata": {},
   "outputs": [
    {
     "name": "stdout",
     "output_type": "stream",
     "text": [
      "This is a sentence\n"
     ]
    }
   ],
   "source": [
    "def until_dot(s):\n",
    "    index = 0\n",
    "    while index < len(s) and s[index] != '.':\n",
    "        # No dots yet, keep going.\n",
    "        index += 1\n",
    "    # We either found a dot or ran out of string.\n",
    "    return s[:index]\n",
    "\n",
    "print(until_dot(\"This is a sentence. This is another sentence.\"))"
   ]
  },
  {
   "cell_type": "code",
   "execution_count": 9,
   "metadata": {},
   "outputs": [
    {
     "name": "stdout",
     "output_type": "stream",
     "text": [
      "True\n"
     ]
    }
   ],
   "source": [
    "def is_substring(substring, string):\n",
    "    index = 0\n",
    "    while index < len(string):\n",
    "        if string[index : index + len(substring)] == substring:\n",
    "            return True\n",
    "        index += 1\n",
    "    return False\n",
    "\n",
    "print(is_substring(\"banana\", \"bananarama\"))"
   ]
  },
  {
   "cell_type": "code",
   "execution_count": 1,
   "metadata": {},
   "outputs": [
    {
     "name": "stdout",
     "output_type": "stream",
     "text": [
      "Once upon a time there was a very long string that was over 100 characters long and could not all fit on the screen at once.\n"
     ]
    }
   ],
   "source": [
    "story =  (\"Once upon a time there was a very long string that was \"\n",
    "          \"over 100 characters long and could not all fit on the \"\n",
    "          \"screen at once.\")\n",
    "print(story)"
   ]
  },
  {
   "cell_type": "code",
   "execution_count": 2,
   "metadata": {},
   "outputs": [
    {
     "name": "stdout",
     "output_type": "stream",
     "text": [
      "Once upon a time there was a very long string that was over 100 characters long and could not all fit on the screen at once.\n"
     ]
    }
   ],
   "source": [
    "print(\"Once upon a time there was a very long string that was \"\n",
    "      \"over 100 characters long and could not all fit on the \"\n",
    "      \"screen at once.\")\n"
   ]
  },
  {
   "cell_type": "code",
   "execution_count": 3,
   "metadata": {},
   "outputs": [
    {
     "name": "stdout",
     "output_type": "stream",
     "text": [
      "Hello\n",
      "world!\n"
     ]
    }
   ],
   "source": [
    "import time\n",
    "print(\"Hello\")\n",
    "time.sleep(2)\n",
    "print(\"world!\")\n"
   ]
  },
  {
   "cell_type": "markdown",
   "metadata": {},
   "source": [
    "#Boolean Values"
   ]
  },
  {
   "cell_type": "code",
   "execution_count": 4,
   "metadata": {},
   "outputs": [
    {
     "name": "stdout",
     "output_type": "stream",
     "text": [
      "True\n",
      "False\n",
      "False\n"
     ]
    }
   ],
   "source": [
    "def good_lengths(s):\n",
    "    return len(s) > 8 and len(s) < 64\n",
    "\n",
    "print(good_lengths(\"This is a nice password.\"))\n",
    "\n",
    "print(good_lengths(\"short\"))\n",
    "\n",
    "print(good_lengths(f\"This is a really long password that is way too long. It is so long that it is over 64 characters long.\"))"
   ]
  },
  {
   "cell_type": "code",
   "execution_count": 5,
   "metadata": {},
   "outputs": [
    {
     "name": "stdout",
     "output_type": "stream",
     "text": [
      "21\n",
      "0\n"
     ]
    }
   ],
   "source": [
    "def total_lenght(list_of_stings):\n",
    "    total = 0\n",
    "    for str in list_of_stings:\n",
    "        total += len(str)\n",
    "    return total\n",
    "\n",
    "print(total_lenght([\"This\", \"is\", \"a\", \"list\", \"of\", \"strings.\"]))\n",
    "\n",
    "print(total_lenght([]))"
   ]
  },
  {
   "cell_type": "code",
   "execution_count": 6,
   "metadata": {},
   "outputs": [
    {
     "name": "stdout",
     "output_type": "stream",
     "text": [
      "['saura', 'peter', 'paul', 'mary', 'john']\n"
     ]
    }
   ],
   "source": [
    "#methos on lists\n",
    "\n",
    "words = ['saura', 'peter', 'paul', 'mary']\n",
    "words.append('john')\n",
    "print(words)"
   ]
  },
  {
   "cell_type": "code",
   "execution_count": 7,
   "metadata": {},
   "outputs": [
    {
     "name": "stdout",
     "output_type": "stream",
     "text": [
      "['saura', 'peter', 'paul', 'mary', 'john', 'a', 'b', 'c']\n"
     ]
    }
   ],
   "source": [
    "words.extend('abc')\n",
    "print(words)"
   ]
  },
  {
   "cell_type": "code",
   "execution_count": 8,
   "metadata": {},
   "outputs": [
    {
     "name": "stdout",
     "output_type": "stream",
     "text": [
      "['saura', 'peter', 'paul', 'mary', 'john', 'a', 'b', 'c', 'abc']\n"
     ]
    }
   ],
   "source": [
    "words.extend(['abc'])\n",
    "print(words)"
   ]
  },
  {
   "cell_type": "code",
   "execution_count": 9,
   "metadata": {},
   "outputs": [
    {
     "name": "stdout",
     "output_type": "stream",
     "text": [
      "['saura', 'peter', 'george', 'paul', 'mary', 'john', 'a', 'b', 'c', 'abc']\n"
     ]
    }
   ],
   "source": [
    "words.insert(2, 'george')\n",
    "print(words)"
   ]
  },
  {
   "cell_type": "code",
   "execution_count": 10,
   "metadata": {},
   "outputs": [
    {
     "name": "stdout",
     "output_type": "stream",
     "text": [
      "['abc', 'c', 'b', 'a', 'john', 'mary', 'paul', 'george', 'peter', 'saura']\n"
     ]
    }
   ],
   "source": [
    "words.reverse()\n",
    "print(words)"
   ]
  },
  {
   "cell_type": "code",
   "execution_count": 11,
   "metadata": {},
   "outputs": [
    {
     "name": "stdout",
     "output_type": "stream",
     "text": [
      "['a', 'abc', 'b', 'c', 'george', 'john', 'mary', 'paul', 'peter', 'saura']\n"
     ]
    }
   ],
   "source": [
    "words.sort()\n",
    "print(words)"
   ]
  },
  {
   "cell_type": "code",
   "execution_count": 15,
   "metadata": {},
   "outputs": [
    {
     "name": "stdout",
     "output_type": "stream",
     "text": [
      "['str', 2, 3]\n"
     ]
    },
    {
     "ename": "TypeError",
     "evalue": "'str' object does not support item assignment",
     "output_type": "error",
     "traceback": [
      "\u001b[0;31m---------------------------------------------------------------------------\u001b[0m",
      "\u001b[0;31mTypeError\u001b[0m                                 Traceback (most recent call last)",
      "Cell \u001b[0;32mIn[15], line 8\u001b[0m\n\u001b[1;32m      5\u001b[0m \u001b[38;5;28mprint\u001b[39m(lst)\n\u001b[1;32m      7\u001b[0m st_ring \u001b[38;5;241m=\u001b[39m \u001b[38;5;124m\"\u001b[39m\u001b[38;5;124mstring\u001b[39m\u001b[38;5;124m\"\u001b[39m\n\u001b[0;32m----> 8\u001b[0m st_ring[\u001b[38;5;241m0\u001b[39m] \u001b[38;5;241m=\u001b[39m \u001b[38;5;124m\"\u001b[39m\u001b[38;5;124ma\u001b[39m\u001b[38;5;124m\"\u001b[39m\n",
      "\u001b[0;31mTypeError\u001b[0m: 'str' object does not support item assignment"
     ]
    }
   ],
   "source": [
    "#mutable = can be changed\n",
    "#immutable = cannot be changed\n",
    "lst = [1, 2, 3]\n",
    "lst[0] = \"str\"\n",
    "print(lst)\n",
    "\n",
    "st_ring = \"string\"\n",
    "st_ring[0] = \"a\" #error"
   ]
  },
  {
   "cell_type": "code",
   "execution_count": 16,
   "metadata": {},
   "outputs": [
    {
     "name": "stdout",
     "output_type": "stream",
     "text": [
      "6\n",
      "5\n",
      "10\n",
      "5.0\n"
     ]
    }
   ],
   "source": [
    "#arguments assignment \n",
    "\n",
    "n= 5 \n",
    "\n",
    "n += 1\n",
    "print(n)\n",
    "\n",
    "n -= 1\n",
    "print(n)\n",
    "\n",
    "n *= 2\n",
    "print(n)\n",
    "\n",
    "n /= 2\n",
    "print(n)"
   ]
  },
  {
   "cell_type": "code",
   "execution_count": 17,
   "metadata": {},
   "outputs": [
    {
     "name": "stdout",
     "output_type": "stream",
     "text": [
      "Wrong password.\n",
      "Wrong password.\n",
      "Wrong password.\n",
      "Correct password.\n"
     ]
    }
   ],
   "source": [
    "def password_check():\n",
    "    while input(\"Enter your password: \") != \"password\":\n",
    "        print(\"Wrong password.\")\n",
    "    print(\"Correct password.\")\n",
    "\n",
    "password_check()"
   ]
  },
  {
   "cell_type": "markdown",
   "metadata": {},
   "source": [
    "#While Loop"
   ]
  },
  {
   "cell_type": "code",
   "execution_count": 1,
   "metadata": {},
   "outputs": [
    {
     "name": "stdout",
     "output_type": "stream",
     "text": [
      "10\n",
      "9\n",
      "8\n",
      "7\n",
      "6\n",
      "5\n",
      "4\n",
      "3\n",
      "2\n",
      "1\n",
      "End\n"
     ]
    }
   ],
   "source": [
    "count = 10\n",
    "\n",
    "while count > 0:\n",
    "    print(count)\n",
    "    count -= 1\n",
    "\n",
    "print(\"End\")"
   ]
  },
  {
   "cell_type": "code",
   "execution_count": 3,
   "metadata": {},
   "outputs": [
    {
     "name": "stdout",
     "output_type": "stream",
     "text": [
      "S\n",
      "Sa\n",
      "Sac\n",
      "Sach\n",
      "Sachi\n",
      "Sachin\n",
      "SachinT\n",
      "SachinTe\n",
      "SachinTen\n",
      "SachinTenD\n",
      "SachinTenDu\n",
      "SachinTenDul\n",
      "SachinTenDulk\n",
      "SachinTenDulka\n",
      "SachinTenDulkar\n"
     ]
    }
   ],
   "source": [
    "s = \"SachinTenDulkar\"\n",
    "index = 0\n",
    "\n",
    "while index < len(s):\n",
    "    index += 1\n",
    "    print(s[:index])\n",
    "    "
   ]
  },
  {
   "cell_type": "code",
   "execution_count": 4,
   "metadata": {},
   "outputs": [
    {
     "name": "stdout",
     "output_type": "stream",
     "text": [
      "abracadabra\n",
      "abracadabr\n",
      "abracadab\n",
      "abracada\n",
      "abracad\n",
      "abraca\n",
      "abrac\n",
      "abra\n",
      "abr\n",
      "ab\n",
      "a\n"
     ]
    }
   ],
   "source": [
    "s = \"abracadabra\"\n",
    "index = len(s)\n",
    "\n",
    "while index > 0:\n",
    "    print(s[:index])\n",
    "    index -= 1"
   ]
  },
  {
   "cell_type": "code",
   "execution_count": 5,
   "metadata": {},
   "outputs": [
    {
     "name": "stdout",
     "output_type": "stream",
     "text": [
      "3\n"
     ]
    }
   ],
   "source": [
    "def count_character(string, target):\n",
    "    index = 0\n",
    "    total = 0\n",
    "    while index < len(string):\n",
    "        if string[index] == target:\n",
    "            total += 1\n",
    "        index += 1\n",
    "    return total\n",
    "\n",
    "print(count_character(\"banana\", \"a\"))"
   ]
  },
  {
   "cell_type": "code",
   "execution_count": 7,
   "metadata": {},
   "outputs": [
    {
     "name": "stdout",
     "output_type": "stream",
     "text": [
      "Microsoft\n"
     ]
    }
   ],
   "source": [
    "def until_dot(s):\n",
    "    index = 0\n",
    "    while index < len(s) and s[index] != '.':\n",
    "        # No dots yet, keep going.\n",
    "        index += 1\n",
    "    # We either found a dot or ran out of string.\n",
    "    return s[:index]\n",
    "\n",
    "print(until_dot(\"Microsoft.com\"))"
   ]
  },
  {
   "cell_type": "markdown",
   "metadata": {},
   "source": [
    "#The Break Statement"
   ]
  },
  {
   "cell_type": "code",
   "execution_count": 8,
   "metadata": {},
   "outputs": [
    {
     "name": "stdout",
     "output_type": "stream",
     "text": [
      "I am, trappped in a finite loop!\n",
      "Yay, I am free!\n"
     ]
    }
   ],
   "source": [
    "while True:\n",
    "    print(\"I am, trappped in a finite loop!\")\n",
    "    break\n",
    "\n",
    "print(\"Yay, I am free!\")"
   ]
  },
  {
   "cell_type": "code",
   "execution_count": 9,
   "metadata": {},
   "outputs": [
    {
     "name": "stdout",
     "output_type": "stream",
     "text": [
      "You told me that word already!\n",
      "I've broken out of the loop!\n",
      "Your words were ['hello', 'India']\n"
     ]
    }
   ],
   "source": [
    "words = []\n",
    "while True:\n",
    "    word = input(\"Tell me a word: \")\n",
    "    if word in words:\n",
    "        print(\"You told me that word already!\")\n",
    "        break\n",
    "    words.append(word)\n",
    "print(\"I've broken out of the loop!\")\n",
    "print(f\"Your words were {words}\")"
   ]
  },
  {
   "cell_type": "markdown",
   "metadata": {},
   "source": [
    "#Finding Substrings"
   ]
  },
  {
   "cell_type": "code",
   "execution_count": 10,
   "metadata": {},
   "outputs": [
    {
     "data": {
      "text/plain": [
       "True"
      ]
     },
     "execution_count": 10,
     "metadata": {},
     "output_type": "execute_result"
    }
   ],
   "source": [
    "def is_substring(substring, string):\n",
    "    index = 0\n",
    "    while index < len(string):\n",
    "        if string[index : index + len(substring)] == substring:\n",
    "            return True\n",
    "        index += 1\n",
    "    return False\n",
    "\n",
    "is_substring(\"banana\", \"bananarama\")"
   ]
  },
  {
   "cell_type": "code",
   "execution_count": 11,
   "metadata": {},
   "outputs": [
    {
     "name": "stdout",
     "output_type": "stream",
     "text": [
      "3\n"
     ]
    }
   ],
   "source": [
    "def count_substring(string, target):\n",
    "    total = 0\n",
    "    index = 0\n",
    "    while index < len(string):\n",
    "        if string[index : index + len(target)] == target:\n",
    "            total += 1\n",
    "            index += len(target)   # <- This is the key line\n",
    "        else:\n",
    "            index += 1\n",
    "    return total\n",
    "\n",
    "print(count_substring(\"aberakababra\", \"ab\"))"
   ]
  },
  {
   "cell_type": "code",
   "execution_count": 12,
   "metadata": {},
   "outputs": [
    {
     "name": "stdout",
     "output_type": "stream",
     "text": [
      "1\n"
     ]
    }
   ],
   "source": [
    "def locate_first(string, sub): \n",
    "    index = 0\n",
    "    while index < len(string):\n",
    "        if string[index : index + len(sub)] == sub:\n",
    "            return index\n",
    "        else:\n",
    "            index += 1\n",
    "    return -1\n",
    "\n",
    "print(locate_first(\"banana\", \"an\"))"
   ]
  },
  {
   "cell_type": "code",
   "execution_count": 13,
   "metadata": {},
   "outputs": [
    {
     "name": "stdout",
     "output_type": "stream",
     "text": [
      "[1, 3]\n"
     ]
    }
   ],
   "source": [
    "def locate_all(string, sub):\n",
    "    matches = []\n",
    "    index = 0\n",
    "    while index < len(string):\n",
    "        if string[index : index + len(sub)] == sub:\n",
    "            matches.append(index)\n",
    "            index += len(sub)\n",
    "        else:\n",
    "            index += 1\n",
    "    return matches\n",
    "\n",
    "print(locate_all(\"banana\", \"an\"))"
   ]
  },
  {
   "cell_type": "code",
   "execution_count": 14,
   "metadata": {},
   "outputs": [
    {
     "data": {
      "text/plain": [
       "True"
      ]
     },
     "execution_count": 14,
     "metadata": {},
     "output_type": "execute_result"
    }
   ],
   "source": [
    "'ab' in 'abrakadabra'"
   ]
  },
  {
   "cell_type": "code",
   "execution_count": 16,
   "metadata": {},
   "outputs": [
    {
     "data": {
      "text/plain": [
       "3"
      ]
     },
     "execution_count": 16,
     "metadata": {},
     "output_type": "execute_result"
    }
   ],
   "source": [
    "'abrakababra'.find('ak')"
   ]
  },
  {
   "cell_type": "code",
   "execution_count": 18,
   "metadata": {},
   "outputs": [
    {
     "data": {
      "text/plain": [
       "2"
      ]
     },
     "execution_count": 18,
     "metadata": {},
     "output_type": "execute_result"
    }
   ],
   "source": [
    "'aaaa'.count('aa')"
   ]
  },
  {
   "cell_type": "code",
   "execution_count": 19,
   "metadata": {},
   "outputs": [
    {
     "name": "stdout",
     "output_type": "stream",
     "text": [
      "Haiku frogs in snow<br>A limerick came from Nantucket<br>Tetrametric drum-beats thrumming, Hiawathianic rhythm.\n"
     ]
    }
   ],
   "source": [
    "lines = [\"Haiku frogs in snow\",\n",
    "         \"A limerick came from Nantucket\",\n",
    "         \"Tetrametric drum-beats thrumming, Hiawathianic rhythm.\"]\n",
    "def breakify(strings):\n",
    "    return \"<br>\".join(strings)\n",
    "print(breakify(lines))\n"
   ]
  },
  {
   "cell_type": "code",
   "execution_count": 20,
   "metadata": {},
   "outputs": [
    {
     "name": "stdout",
     "output_type": "stream",
     "text": [
      "Hot egg!drop soup, and curry with egg!\n"
     ]
    }
   ],
   "source": [
    "def replace_substring(string, substring, replacement):\n",
    "    output = []\n",
    "    index = 0\n",
    "    while index < len(string):\n",
    "        if string[index:index+len(substring)] == substring:\n",
    "            output.append(replacement)\n",
    "            index += len(substring)\n",
    "        else:\n",
    "            output.append(string[index])\n",
    "            index += 1\n",
    "    return \"\".join(output)\n",
    "\n",
    "print(replace_substring(\"Hot SPAM!drop soup, and curry with SPAM!\", \"SPAM\", \"egg\"))"
   ]
  },
  {
   "cell_type": "code",
   "execution_count": null,
   "metadata": {},
   "outputs": [],
   "source": []
  }
 ],
 "metadata": {
  "kernelspec": {
   "display_name": "base",
   "language": "python",
   "name": "python3"
  },
  "language_info": {
   "codemirror_mode": {
    "name": "ipython",
    "version": 3
   },
   "file_extension": ".py",
   "mimetype": "text/x-python",
   "name": "python",
   "nbconvert_exporter": "python",
   "pygments_lexer": "ipython3",
   "version": "3.12.4"
  }
 },
 "nbformat": 4,
 "nbformat_minor": 2
}
