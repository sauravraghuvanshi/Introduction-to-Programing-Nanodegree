{
 "cells": [
  {
   "cell_type": "markdown",
   "metadata": {},
   "source": [
    "#1. Turtles and Code"
   ]
  },
  {
   "cell_type": "code",
   "execution_count": 3,
   "metadata": {},
   "outputs": [
    {
     "ename": "",
     "evalue": "",
     "output_type": "error",
     "traceback": [
      "\u001b[1;31mThe Kernel crashed while executing code in the current cell or a previous cell. \n",
      "\u001b[1;31mPlease review the code in the cell(s) to identify a possible cause of the failure. \n",
      "\u001b[1;31mClick <a href='https://aka.ms/vscodeJupyterKernelCrash'>here</a> for more info. \n",
      "\u001b[1;31mView Jupyter <a href='command:jupyter.viewOutput'>log</a> for further details."
     ]
    }
   ],
   "source": [
    "import turtle\n",
    "fred = turtle.Turtle()\n",
    "fred.color(\"red\")\n",
    "fred.forward(100)\n",
    "fred.right(135)\n",
    "fred.forward(140)\n",
    "fred.right(135)\n",
    "fred.forward(100)\n"
   ]
  },
  {
   "cell_type": "code",
   "execution_count": 4,
   "metadata": {},
   "outputs": [],
   "source": [
    "import turtle\n",
    "emey = turtle.Turtle()\n",
    "emey.color(\"blue\")\n",
    "for i in range(4):\n",
    "    emey.forward(100)\n",
    "    emey.right(90)"
   ]
  },
  {
   "cell_type": "code",
   "execution_count": 5,
   "metadata": {},
   "outputs": [
    {
     "ename": "",
     "evalue": "",
     "output_type": "error",
     "traceback": [
      "\u001b[1;31mThe Kernel crashed while executing code in the current cell or a previous cell. \n",
      "\u001b[1;31mPlease review the code in the cell(s) to identify a possible cause of the failure. \n",
      "\u001b[1;31mClick <a href='https://aka.ms/vscodeJupyterKernelCrash'>here</a> for more info. \n",
      "\u001b[1;31mView Jupyter <a href='command:jupyter.viewOutput'>log</a> for further details."
     ]
    }
   ],
   "source": [
    "mary = turtle.Turtle()\n",
    "mary.color(\"purple\")\n",
    "for side in [1, 2, 3, 4, 5]:\n",
    "    mary.forward(100)\n",
    "    mary.right(72)"
   ]
  },
  {
   "cell_type": "code",
   "execution_count": 1,
   "metadata": {},
   "outputs": [],
   "source": [
    "import turtle\n",
    "mary = turtle.Turtle()\n",
    "lovely_color = \"purple\"\n",
    "mary.color(lovely_color)\n",
    "for side in [1, 2, 3, 4, 5]:\n",
    "    mary.forward(100)\n",
    "    mary.right(72)"
   ]
  },
  {
   "cell_type": "code",
   "execution_count": 1,
   "metadata": {},
   "outputs": [
    {
     "ename": "",
     "evalue": "",
     "output_type": "error",
     "traceback": [
      "\u001b[1;31mThe Kernel crashed while executing code in the current cell or a previous cell. \n",
      "\u001b[1;31mPlease review the code in the cell(s) to identify a possible cause of the failure. \n",
      "\u001b[1;31mClick <a href='https://aka.ms/vscodeJupyterKernelCrash'>here</a> for more info. \n",
      "\u001b[1;31mView Jupyter <a href='command:jupyter.viewOutput'>log</a> for further details."
     ]
    }
   ],
   "source": [
    "import turtle\n",
    "builder = turtle.Turtle()\n",
    "builder.color(\"red\")\n",
    "builder.width(5)\n",
    "angles = [-90, 0, 0, -90,\n",
    "          135, 0, 0, 0, \n",
    "          90, 0, 0, 0,\n",
    "          135, -90, 0, 0,\n",
    "          90, 0, 0, 0]\n",
    "for angle in angles:\n",
    "    builder.right(angle)\n",
    "    builder.forward(25)\n"
   ]
  },
  {
   "cell_type": "markdown",
   "metadata": {},
   "source": [
    "#2. Python Functions"
   ]
  },
  {
   "cell_type": "code",
   "execution_count": null,
   "metadata": {},
   "outputs": [],
   "source": [
    "#range function\n",
    "import turtle\n",
    "amy = turtle.Turtle()\n",
    "for side in [0, 1, 2, 3]:\n",
    "    amy.forward(100)\n",
    "    amy.left(90)\n",
    "\n",
    "for side in range(4):\n",
    "    amy.forward(100)\n",
    "    amy.left(90)\n"
   ]
  },
  {
   "cell_type": "code",
   "execution_count": 2,
   "metadata": {},
   "outputs": [],
   "source": [
    "import turtle\n",
    "\n",
    "def spiral():\n",
    "    t = turtle.Turtle()\n",
    "    t.color(\"blue\")\n",
    "    for i in range(100):\n",
    "        t.forward(i)\n",
    "        t.right(20)\n",
    "spiral()"
   ]
  },
  {
   "cell_type": "code",
   "execution_count": 4,
   "metadata": {},
   "outputs": [],
   "source": [
    "import turtle\n",
    "\n",
    "def spiral(side):\n",
    "    t = turtle.Turtle()\n",
    "    t.color(\"red\")\n",
    "    for i in range(side):\n",
    "        t.forward(i)\n",
    "        t.right(20)\n",
    "spiral(50)"
   ]
  },
  {
   "cell_type": "code",
   "execution_count": null,
   "metadata": {},
   "outputs": [
    {
     "ename": "",
     "evalue": "",
     "output_type": "error",
     "traceback": [
      "\u001b[1;31mThe Kernel crashed while executing code in the current cell or a previous cell. \n",
      "\u001b[1;31mPlease review the code in the cell(s) to identify a possible cause of the failure. \n",
      "\u001b[1;31mClick <a href='https://aka.ms/vscodeJupyterKernelCrash'>here</a> for more info. \n",
      "\u001b[1;31mView Jupyter <a href='command:jupyter.viewOutput'>log</a> for further details."
     ]
    }
   ],
   "source": [
    "import turtle\n",
    "\n",
    "def spiral(sides,turns,width, color):\n",
    "    t = turtle.Turtle()\n",
    "    t.color(color)\n",
    "    t.width(width)\n",
    "    for i in range(sides):\n",
    "        t.forward(i)\n",
    "        t.right(turns)\n",
    "\n",
    "spiral(50, -30, 5, \"green\")"
   ]
  },
  {
   "cell_type": "code",
   "execution_count": 1,
   "metadata": {},
   "outputs": [
    {
     "ename": "",
     "evalue": "",
     "output_type": "error",
     "traceback": [
      "\u001b[1;31mThe Kernel crashed while executing code in the current cell or a previous cell. \n",
      "\u001b[1;31mPlease review the code in the cell(s) to identify a possible cause of the failure. \n",
      "\u001b[1;31mClick <a href='https://aka.ms/vscodeJupyterKernelCrash'>here</a> for more info. \n",
      "\u001b[1;31mView Jupyter <a href='command:jupyter.viewOutput'>log</a> for further details."
     ]
    }
   ],
   "source": [
    "import turtle\n",
    "romeo = turtle.Turtle()\n",
    "juliet = turtle.Turtle()\n",
    "juliet.color(\"misty rose\")\n",
    "juliet.width(3)\n",
    "romeo.color(\"violet\")\n",
    "romeo.width(3)\n",
    "romeo_last_name = \"montague\"\n",
    "romeo.left(40)\n",
    "romeo.forward(100)\n",
    "for side in range(185):\n",
    "    romeo.forward(1)\n",
    "    romeo.left(1)\n",
    "romeo.hideturtle()\n",
    "if romeo_last_name == \"montague\": # It's just one little change down here.\n",
    "    juliet.left(140)\n",
    "    juliet.forward(100)\n",
    "    for side in range(185):\n",
    "        juliet.forward(1)\n",
    "        juliet.right(1)\n",
    "    juliet.hideturtle()\n"
   ]
  },
  {
   "cell_type": "markdown",
   "metadata": {},
   "source": [
    "##Python at Home"
   ]
  },
  {
   "cell_type": "code",
   "execution_count": 1,
   "metadata": {},
   "outputs": [
    {
     "name": "stdout",
     "output_type": "stream",
     "text": [
      "Hello, Saurav!\n"
     ]
    }
   ],
   "source": [
    "name = input(\"What is your name? \")\n",
    "print(\"Hello, \" + name + \"!\")"
   ]
  },
  {
   "cell_type": "code",
   "execution_count": 2,
   "metadata": {},
   "outputs": [
    {
     "data": {
      "text/plain": [
       "'Hello!'"
      ]
     },
     "execution_count": 2,
     "metadata": {},
     "output_type": "execute_result"
    }
   ],
   "source": [
    "def say_hello():\n",
    "    return \"Hello!\"\n",
    "say_hello()\n"
   ]
  },
  {
   "cell_type": "markdown",
   "metadata": {},
   "source": [
    "##Strings and Lists"
   ]
  },
  {
   "cell_type": "code",
   "execution_count": null,
   "metadata": {},
   "outputs": [],
   "source": []
  }
 ],
 "metadata": {
  "kernelspec": {
   "display_name": "base",
   "language": "python",
   "name": "python3"
  },
  "language_info": {
   "codemirror_mode": {
    "name": "ipython",
    "version": 3
   },
   "file_extension": ".py",
   "mimetype": "text/x-python",
   "name": "python",
   "nbconvert_exporter": "python",
   "pygments_lexer": "ipython3",
   "version": "3.12.4"
  }
 },
 "nbformat": 4,
 "nbformat_minor": 2
}
