{
 "cells": [
  {
   "cell_type": "markdown",
   "metadata": {},
   "source": [
    "#1. Turtles and Code"
   ]
  },
  {
   "cell_type": "code",
   "execution_count": 3,
   "metadata": {},
   "outputs": [
    {
     "ename": "",
     "evalue": "",
     "output_type": "error",
     "traceback": [
      "\u001b[1;31mThe Kernel crashed while executing code in the current cell or a previous cell. \n",
      "\u001b[1;31mPlease review the code in the cell(s) to identify a possible cause of the failure. \n",
      "\u001b[1;31mClick <a href='https://aka.ms/vscodeJupyterKernelCrash'>here</a> for more info. \n",
      "\u001b[1;31mView Jupyter <a href='command:jupyter.viewOutput'>log</a> for further details."
     ]
    }
   ],
   "source": [
    "import turtle\n",
    "fred = turtle.Turtle()\n",
    "fred.color(\"red\")\n",
    "fred.forward(100)\n",
    "fred.right(135)\n",
    "fred.forward(140)\n",
    "fred.right(135)\n",
    "fred.forward(100)\n"
   ]
  },
  {
   "cell_type": "code",
   "execution_count": 4,
   "metadata": {},
   "outputs": [],
   "source": [
    "import turtle\n",
    "emey = turtle.Turtle()\n",
    "emey.color(\"blue\")\n",
    "for i in range(4):\n",
    "    emey.forward(100)\n",
    "    emey.right(90)"
   ]
  },
  {
   "cell_type": "code",
   "execution_count": 5,
   "metadata": {},
   "outputs": [
    {
     "ename": "",
     "evalue": "",
     "output_type": "error",
     "traceback": [
      "\u001b[1;31mThe Kernel crashed while executing code in the current cell or a previous cell. \n",
      "\u001b[1;31mPlease review the code in the cell(s) to identify a possible cause of the failure. \n",
      "\u001b[1;31mClick <a href='https://aka.ms/vscodeJupyterKernelCrash'>here</a> for more info. \n",
      "\u001b[1;31mView Jupyter <a href='command:jupyter.viewOutput'>log</a> for further details."
     ]
    }
   ],
   "source": [
    "mary = turtle.Turtle()\n",
    "mary.color(\"purple\")\n",
    "for side in [1, 2, 3, 4, 5]:\n",
    "    mary.forward(100)\n",
    "    mary.right(72)"
   ]
  },
  {
   "cell_type": "code",
   "execution_count": 1,
   "metadata": {},
   "outputs": [],
   "source": [
    "import turtle\n",
    "mary = turtle.Turtle()\n",
    "lovely_color = \"purple\"\n",
    "mary.color(lovely_color)\n",
    "for side in [1, 2, 3, 4, 5]:\n",
    "    mary.forward(100)\n",
    "    mary.right(72)"
   ]
  },
  {
   "cell_type": "code",
   "execution_count": 1,
   "metadata": {},
   "outputs": [
    {
     "ename": "",
     "evalue": "",
     "output_type": "error",
     "traceback": [
      "\u001b[1;31mThe Kernel crashed while executing code in the current cell or a previous cell. \n",
      "\u001b[1;31mPlease review the code in the cell(s) to identify a possible cause of the failure. \n",
      "\u001b[1;31mClick <a href='https://aka.ms/vscodeJupyterKernelCrash'>here</a> for more info. \n",
      "\u001b[1;31mView Jupyter <a href='command:jupyter.viewOutput'>log</a> for further details."
     ]
    }
   ],
   "source": [
    "import turtle\n",
    "builder = turtle.Turtle()\n",
    "builder.color(\"red\")\n",
    "builder.width(5)\n",
    "angles = [-90, 0, 0, -90,\n",
    "          135, 0, 0, 0, \n",
    "          90, 0, 0, 0,\n",
    "          135, -90, 0, 0,\n",
    "          90, 0, 0, 0]\n",
    "for angle in angles:\n",
    "    builder.right(angle)\n",
    "    builder.forward(25)\n"
   ]
  },
  {
   "cell_type": "markdown",
   "metadata": {},
   "source": [
    "#2. Python Functions"
   ]
  },
  {
   "cell_type": "code",
   "execution_count": null,
   "metadata": {},
   "outputs": [],
   "source": [
    "#range function\n",
    "import turtle\n",
    "amy = turtle.Turtle()\n",
    "for side in [0, 1, 2, 3]:\n",
    "    amy.forward(100)\n",
    "    amy.left(90)\n",
    "\n",
    "for side in range(4):\n",
    "    amy.forward(100)\n",
    "    amy.left(90)\n"
   ]
  },
  {
   "cell_type": "code",
   "execution_count": 2,
   "metadata": {},
   "outputs": [],
   "source": [
    "import turtle\n",
    "\n",
    "def spiral():\n",
    "    t = turtle.Turtle()\n",
    "    t.color(\"blue\")\n",
    "    for i in range(100):\n",
    "        t.forward(i)\n",
    "        t.right(20)\n",
    "spiral()"
   ]
  },
  {
   "cell_type": "code",
   "execution_count": 4,
   "metadata": {},
   "outputs": [],
   "source": [
    "import turtle\n",
    "\n",
    "def spiral(side):\n",
    "    t = turtle.Turtle()\n",
    "    t.color(\"red\")\n",
    "    for i in range(side):\n",
    "        t.forward(i)\n",
    "        t.right(20)\n",
    "spiral(50)"
   ]
  },
  {
   "cell_type": "code",
   "execution_count": null,
   "metadata": {},
   "outputs": [
    {
     "ename": "",
     "evalue": "",
     "output_type": "error",
     "traceback": [
      "\u001b[1;31mThe Kernel crashed while executing code in the current cell or a previous cell. \n",
      "\u001b[1;31mPlease review the code in the cell(s) to identify a possible cause of the failure. \n",
      "\u001b[1;31mClick <a href='https://aka.ms/vscodeJupyterKernelCrash'>here</a> for more info. \n",
      "\u001b[1;31mView Jupyter <a href='command:jupyter.viewOutput'>log</a> for further details."
     ]
    }
   ],
   "source": [
    "import turtle\n",
    "\n",
    "def spiral(sides,turns,width, color):\n",
    "    t = turtle.Turtle()\n",
    "    t.color(color)\n",
    "    t.width(width)\n",
    "    for i in range(sides):\n",
    "        t.forward(i)\n",
    "        t.right(turns)\n",
    "\n",
    "spiral(50, -30, 5, \"green\")"
   ]
  },
  {
   "cell_type": "code",
   "execution_count": 1,
   "metadata": {},
   "outputs": [
    {
     "ename": "",
     "evalue": "",
     "output_type": "error",
     "traceback": [
      "\u001b[1;31mThe Kernel crashed while executing code in the current cell or a previous cell. \n",
      "\u001b[1;31mPlease review the code in the cell(s) to identify a possible cause of the failure. \n",
      "\u001b[1;31mClick <a href='https://aka.ms/vscodeJupyterKernelCrash'>here</a> for more info. \n",
      "\u001b[1;31mView Jupyter <a href='command:jupyter.viewOutput'>log</a> for further details."
     ]
    }
   ],
   "source": [
    "import turtle\n",
    "romeo = turtle.Turtle()\n",
    "juliet = turtle.Turtle()\n",
    "juliet.color(\"misty rose\")\n",
    "juliet.width(3)\n",
    "romeo.color(\"violet\")\n",
    "romeo.width(3)\n",
    "romeo_last_name = \"montague\"\n",
    "romeo.left(40)\n",
    "romeo.forward(100)\n",
    "for side in range(185):\n",
    "    romeo.forward(1)\n",
    "    romeo.left(1)\n",
    "romeo.hideturtle()\n",
    "if romeo_last_name == \"montague\": # It's just one little change down here.\n",
    "    juliet.left(140)\n",
    "    juliet.forward(100)\n",
    "    for side in range(185):\n",
    "        juliet.forward(1)\n",
    "        juliet.right(1)\n",
    "    juliet.hideturtle()\n"
   ]
  },
  {
   "cell_type": "markdown",
   "metadata": {},
   "source": [
    "##Python at Home"
   ]
  },
  {
   "cell_type": "code",
   "execution_count": 1,
   "metadata": {},
   "outputs": [
    {
     "name": "stdout",
     "output_type": "stream",
     "text": [
      "Hello, Saurav!\n"
     ]
    }
   ],
   "source": [
    "name = input(\"What is your name? \")\n",
    "print(\"Hello, \" + name + \"!\")"
   ]
  },
  {
   "cell_type": "code",
   "execution_count": 2,
   "metadata": {},
   "outputs": [
    {
     "data": {
      "text/plain": [
       "'Hello!'"
      ]
     },
     "execution_count": 2,
     "metadata": {},
     "output_type": "execute_result"
    }
   ],
   "source": [
    "def say_hello():\n",
    "    return \"Hello!\"\n",
    "say_hello()\n"
   ]
  },
  {
   "cell_type": "markdown",
   "metadata": {},
   "source": [
    "##Strings and Lists"
   ]
  },
  {
   "cell_type": "code",
   "execution_count": 1,
   "metadata": {},
   "outputs": [
    {
     "data": {
      "text/plain": [
       "'🐍'"
      ]
     },
     "execution_count": 1,
     "metadata": {},
     "output_type": "execute_result"
    }
   ],
   "source": [
    "import unicodedata\n",
    "unicodedata.lookup(\"snake\")"
   ]
  },
  {
   "cell_type": "code",
   "execution_count": 2,
   "metadata": {},
   "outputs": [
    {
     "data": {
      "text/plain": [
       "False"
      ]
     },
     "execution_count": 2,
     "metadata": {},
     "output_type": "execute_result"
    }
   ],
   "source": [
    "def too_long(s):\n",
    "    length = len(s)\n",
    "    if length > 140:\n",
    "        return True\n",
    "    else:\n",
    "        return False\n",
    "\n",
    "too_long(\"I'm sorry that I'm so wordy, but I can't help it. I'm a writer!\")"
   ]
  },
  {
   "cell_type": "code",
   "execution_count": 3,
   "metadata": {},
   "outputs": [
    {
     "name": "stdout",
     "output_type": "stream",
     "text": [
      "one\n",
      "two\n",
      "three\n",
      "four\n"
     ]
    }
   ],
   "source": [
    "for things in [\"one\", \"two\", \"three\", \"four\"]:\n",
    "    print(things)"
   ]
  },
  {
   "cell_type": "code",
   "execution_count": 4,
   "metadata": {},
   "outputs": [
    {
     "name": "stdout",
     "output_type": "stream",
     "text": [
      "H\n",
      "e\n",
      "l\n",
      "l\n",
      "o\n",
      "!\n"
     ]
    }
   ],
   "source": [
    "for things in \"Hello!\":\n",
    "    print(things)"
   ]
  },
  {
   "cell_type": "code",
   "execution_count": 1,
   "metadata": {},
   "outputs": [
    {
     "data": {
      "text/plain": [
       "3"
      ]
     },
     "execution_count": 1,
     "metadata": {},
     "output_type": "execute_result"
    }
   ],
   "source": [
    "##counting the number of characters in a string\n",
    "def count_character(string, target):\n",
    "    count = 0\n",
    "    for ch in string:\n",
    "        if ch == target:\n",
    "            count = count + 1\n",
    "    return count\n",
    "\n",
    "count_character(\"bonobo\", \"o\")"
   ]
  },
  {
   "cell_type": "code",
   "execution_count": 2,
   "metadata": {},
   "outputs": [
    {
     "data": {
      "text/plain": [
       "True"
      ]
     },
     "execution_count": 2,
     "metadata": {},
     "output_type": "execute_result"
    }
   ],
   "source": [
    "#check if string start with k\n",
    "def starts_with_k(word):\n",
    "    return(word[0] == \"k\")\n",
    "\n",
    "starts_with_k(\"kangaroo\")\n",
    "    "
   ]
  },
  {
   "cell_type": "code",
   "execution_count": 1,
   "metadata": {},
   "outputs": [
    {
     "name": "stdout",
     "output_type": "stream",
     "text": [
      "d\n",
      "de\n",
      "def\n",
      "defi\n",
      "defin\n",
      "defini\n",
      "definit\n",
      "definite\n",
      "definitel\n",
      "definitely\n"
     ]
    }
   ],
   "source": [
    "word = \"definitely\"\n",
    "length = len(word)\n",
    "\n",
    "for i in range(length):\n",
    "    print(word[0: i + 1])"
   ]
  },
  {
   "cell_type": "code",
   "execution_count": 2,
   "metadata": {},
   "outputs": [
    {
     "name": "stdout",
     "output_type": "stream",
     "text": [
      "kitten\n",
      "kitte\n",
      "kitt\n",
      "kit\n",
      "ki\n",
      "k\n"
     ]
    }
   ],
   "source": [
    "def word_triangle(word):\n",
    "  length = len(word)\n",
    "  for n in range(length):\n",
    "    print(word[:length - n])\n",
    "word_triangle(\"kitten\")\n"
   ]
  },
  {
   "cell_type": "code",
   "execution_count": 3,
   "metadata": {},
   "outputs": [
    {
     "data": {
      "text/plain": [
       "'quickly'"
      ]
     },
     "execution_count": 3,
     "metadata": {},
     "output_type": "execute_result"
    }
   ],
   "source": [
    "def add_ly(word):\n",
    "    return word + \"ly\"\n",
    "\n",
    "add_ly(\"quick\")"
   ]
  },
  {
   "cell_type": "code",
   "execution_count": 5,
   "metadata": {},
   "outputs": [
    {
     "name": "stdout",
     "output_type": "stream",
     "text": [
      "\n",
      "Hi, Saurav! It's very nice to meet you.\n",
      "\n",
      "\n",
      "Ah, Blue, what a lovely colour!\n"
     ]
    }
   ],
   "source": [
    "name = input(\"What is your name?\")\n",
    "print(\"\\nHi, \" + name + \"! It's very nice to meet you.\\n\\n\")\n",
    "\n",
    "colour = input(\"What is your favourite colour?\\n\")\n",
    "print(\"Ah, \" + colour + \", what a lovely colour!\")"
   ]
  },
  {
   "cell_type": "code",
   "execution_count": 7,
   "metadata": {},
   "outputs": [
    {
     "data": {
      "text/plain": [
       "'pi equal to 3.14159'"
      ]
     },
     "execution_count": 7,
     "metadata": {},
     "output_type": "execute_result"
    }
   ],
   "source": [
    "import math\n",
    "\n",
    "f\"pi equal to {math.pi:.6}\""
   ]
  },
  {
   "cell_type": "code",
   "execution_count": 8,
   "metadata": {},
   "outputs": [
    {
     "name": "stdout",
     "output_type": "stream",
     "text": [
      "10 + 5 + 3 = 18\n"
     ]
    }
   ],
   "source": [
    "n1 = input(\"Enter a number: \")\n",
    "n2 = input(\"Enter another number: \")\n",
    "n3 = input(\"Enter a third number: \")\n",
    "sum = int(n1) + int(n2) + int(n3)\n",
    "print(f\"{n1} + {n2} + {n3} = {sum}\")\n"
   ]
  },
  {
   "cell_type": "code",
   "execution_count": 9,
   "metadata": {},
   "outputs": [
    {
     "data": {
      "text/plain": [
       "True"
      ]
     },
     "execution_count": 9,
     "metadata": {},
     "output_type": "execute_result"
    }
   ],
   "source": [
    "def start_with(s1, s2):\n",
    "    if s1[0] == s2[0]:\n",
    "        return True\n",
    "    else:\n",
    "        return False\n",
    "    \n",
    "start_with(\"apple\", \"avocado\")"
   ]
  },
  {
   "cell_type": "code",
   "execution_count": 11,
   "metadata": {},
   "outputs": [
    {
     "name": "stdout",
     "output_type": "stream",
     "text": [
      "False\n"
     ]
    }
   ],
   "source": [
    "def start_with(s1, s2):\n",
    "    print(s1[0] != s2[0])\n",
    "\n",
    "start_with(\"apple\", \"avocado\")"
   ]
  },
  {
   "cell_type": "code",
   "execution_count": 14,
   "metadata": {},
   "outputs": [
    {
     "name": "stdout",
     "output_type": "stream",
     "text": [
      "False\n",
      "True\n"
     ]
    }
   ],
   "source": [
    "def start_with(long_string, short_string):\n",
    "    for i in range(len(short_string)):\n",
    "        if long_string[i] != short_string[i]:\n",
    "            return False\n",
    "    return True\n",
    "\n",
    "print(start_with(\"apple\", \"apx\"))\n",
    "print(start_with(\"apple\", \"app\"))"
   ]
  },
  {
   "cell_type": "code",
   "execution_count": 16,
   "metadata": {},
   "outputs": [
    {
     "name": "stdout",
     "output_type": "stream",
     "text": [
      "False\n",
      "True\n"
     ]
    }
   ],
   "source": [
    "def start_with(long_string, short_string):\n",
    "    return long_string[:len(short_string)] == short_string\n",
    "\n",
    "print(start_with(\"apple\", \"apx\"))\n",
    "print(start_with(\"apple\", \"app\"))"
   ]
  },
  {
   "cell_type": "code",
   "execution_count": 17,
   "metadata": {},
   "outputs": [
    {
     "name": "stdout",
     "output_type": "stream",
     "text": [
      "True\n",
      "False\n"
     ]
    }
   ],
   "source": [
    "print(\"banana\".startswith(\"ban\"))\n",
    "print(\"banana\".startswith(\"can\"))"
   ]
  },
  {
   "cell_type": "code",
   "execution_count": 18,
   "metadata": {},
   "outputs": [
    {
     "name": "stdout",
     "output_type": "stream",
     "text": [
      "<html> could maybe be an HTML tag\n",
      "html is definitely not an HTML tag (but might contain one)\n"
     ]
    }
   ],
   "source": [
    "def possible_tag(word):\n",
    "    if word.startswith(\"<\") and word.endswith(\">\"):\n",
    "        print(word, \"could maybe be an HTML tag\")\n",
    "    else:\n",
    "        print(word, \"is definitely not an HTML tag (but might contain one)\")\n",
    " \n",
    "possible_tag(\"<html>\")\n",
    "possible_tag(\"html\")"
   ]
  },
  {
   "cell_type": "code",
   "execution_count": null,
   "metadata": {},
   "outputs": [],
   "source": []
  }
 ],
 "metadata": {
  "kernelspec": {
   "display_name": "base",
   "language": "python",
   "name": "python3"
  },
  "language_info": {
   "codemirror_mode": {
    "name": "ipython",
    "version": 3
   },
   "file_extension": ".py",
   "mimetype": "text/x-python",
   "name": "python",
   "nbconvert_exporter": "python",
   "pygments_lexer": "ipython3",
   "version": "3.12.4"
  }
 },
 "nbformat": 4,
 "nbformat_minor": 2
}
