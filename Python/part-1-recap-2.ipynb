{
 "cells": [
  {
   "cell_type": "code",
   "execution_count": null,
   "metadata": {},
   "outputs": [
    {
     "name": "stderr",
     "output_type": "stream",
     "text": [
      "2025-02-17 23:18:23.369 python[5350:116231] +[IMKClient subclass]: chose IMKClient_Modern\n",
      "2025-02-17 23:18:23.369 python[5350:116231] +[IMKInputSession subclass]: chose IMKInputSession_Modern\n"
     ]
    },
    {
     "ename": "",
     "evalue": "",
     "output_type": "error",
     "traceback": [
      "\u001b[1;31mThe Kernel crashed while executing code in the current cell or a previous cell. \n",
      "\u001b[1;31mPlease review the code in the cell(s) to identify a possible cause of the failure. \n",
      "\u001b[1;31mClick <a href='https://aka.ms/vscodeJupyterKernelCrash'>here</a> for more info. \n",
      "\u001b[1;31mView Jupyter <a href='command:jupyter.viewOutput'>log</a> for further details."
     ]
    }
   ],
   "source": [
    "import turtle\n",
    "\n",
    "alex = turtle.Turtle()\n",
    "alex.color(\"blue\")\n",
    "alex.forward(100)\n",
    "alex.left(90)\n",
    "alex.forward(100)\n",
    "alex.left(90)\n",
    "alex.forward(100)\n",
    "alex.left(90)\n",
    "alex.forward(100)\n",
    "alex.left(90)"
   ]
  },
  {
   "cell_type": "code",
   "execution_count": null,
   "metadata": {},
   "outputs": [],
   "source": [
    "import turtle \n",
    "\n",
    "grovey = turtle.Turtle()\n",
    "grovey.color(\"green\")   \n",
    "\n",
    "for i in range(4):\n",
    "    grovey.forward(100)\n",
    "    grovey.left(90)"
   ]
  },
  {
   "cell_type": "code",
   "execution_count": 1,
   "metadata": {},
   "outputs": [
    {
     "name": "stderr",
     "output_type": "stream",
     "text": [
      "2025-02-18 23:29:24.395 python[2877:53795] +[IMKClient subclass]: chose IMKClient_Modern\n",
      "2025-02-18 23:29:24.395 python[2877:53795] +[IMKInputSession subclass]: chose IMKInputSession_Modern\n"
     ]
    }
   ],
   "source": [
    "import turtle\n",
    "paul = turtle.Turtle()\n",
    "for side in [1, 2, 3, 4]:\n",
    "    paul.forward(100)\n",
    "    paul.right(90)\n",
    "    for side in [1, 2, 3, 4]:\n",
    "        paul.forward(10)\n",
    "        paul.right(90)"
   ]
  },
  {
   "cell_type": "code",
   "execution_count": null,
   "metadata": {},
   "outputs": [
    {
     "ename": "",
     "evalue": "",
     "output_type": "error",
     "traceback": [
      "\u001b[1;31mThe Kernel crashed while executing code in the current cell or a previous cell. \n",
      "\u001b[1;31mPlease review the code in the cell(s) to identify a possible cause of the failure. \n",
      "\u001b[1;31mClick <a href='https://aka.ms/vscodeJupyterKernelCrash'>here</a> for more info. \n",
      "\u001b[1;31mView Jupyter <a href='command:jupyter.viewOutput'>log</a> for further details."
     ]
    }
   ],
   "source": [
    "import turtle\n",
    "\n",
    "rainbow = [\"red\", \"orange\", \"yellow\", \"green\", \"blue\", \"purple\"]\n",
    "\n",
    "# Write whatever code you want here!\n",
    "stars = turtle.Turtle()\n",
    "stars.width(5)\n",
    "stars.speed(0)\n",
    "for color in rainbow:\n",
    "    stars.color(color)\n",
    "    for side in [1, 2, 3, 4, 5]:\n",
    "        stars.forward(50)\n",
    "        stars.right(144)\n",
    "    stars.right(60)\n",
    "    stars.penup()\n",
    "    stars.forward(50)\n",
    "    stars.pendown()"
   ]
  },
  {
   "cell_type": "markdown",
   "metadata": {},
   "source": [
    "#Function"
   ]
  },
  {
   "cell_type": "code",
   "execution_count": 1,
   "metadata": {},
   "outputs": [
    {
     "name": "stderr",
     "output_type": "stream",
     "text": [
      "2025-02-19 21:05:56.968 python[2813:80760] +[IMKClient subclass]: chose IMKClient_Modern\n",
      "2025-02-19 21:05:56.968 python[2813:80760] +[IMKInputSession subclass]: chose IMKInputSession_Modern\n"
     ]
    }
   ],
   "source": [
    "import turtle\n",
    "t = turtle.Turtle()\n",
    "t.color(\"cyan\")\n",
    "\n",
    "for side in range(19):\n",
    "    t.forward(side*10)\n",
    "    t.right(120)"
   ]
  },
  {
   "cell_type": "code",
   "execution_count": 2,
   "metadata": {},
   "outputs": [],
   "source": [
    "import turtle\n",
    "\n",
    "def spiral():\n",
    "    t = turtle.Turtle()\n",
    "    t.color(\"cyan\")\n",
    "    for n in range(100):\n",
    "        t.forward(n)\n",
    "        t.right(20)\n",
    "\n",
    "spiral()"
   ]
  },
  {
   "cell_type": "code",
   "execution_count": 3,
   "metadata": {},
   "outputs": [],
   "source": [
    "import turtle\n",
    "jack = turtle.Turtle()\n",
    "jack.color(\"yellow\")\n",
    "    \n",
    "def draw_square(length, color):\n",
    "    for side in range(4):\n",
    "        jack.color(color)\n",
    "        jack.forward(length)\n",
    "        jack.right(90)\n",
    "\n",
    "draw_square(100, \"cyan\")\n",
    "draw_square(50, \"magenta\")\n",
    "draw_square(25, \"yellow\")"
   ]
  },
  {
   "cell_type": "code",
   "execution_count": 1,
   "metadata": {},
   "outputs": [],
   "source": [
    "import turtle\n",
    "jack = turtle.Turtle()\n",
    "\n",
    "def draw_shape(length, color, sides):\n",
    "    jack.color(color)\n",
    "    for side in range(sides):\n",
    "        jack.forward(length)\n",
    "        jack.right(360/sides)\n",
    "\n",
    "draw_shape(100, \"cyan\", 5)"
   ]
  },
  {
   "cell_type": "code",
   "execution_count": null,
   "metadata": {},
   "outputs": [
    {
     "name": "stderr",
     "output_type": "stream",
     "text": [
      "2025-02-19 22:35:23.175 python[5285:153975] +[IMKClient subclass]: chose IMKClient_Modern\n",
      "2025-02-19 22:35:23.456 python[5285:153975] +[IMKInputSession subclass]: chose IMKInputSession_Modern\n"
     ]
    },
    {
     "ename": "",
     "evalue": "",
     "output_type": "error",
     "traceback": [
      "\u001b[1;31mThe Kernel crashed while executing code in the current cell or a previous cell. \n",
      "\u001b[1;31mPlease review the code in the cell(s) to identify a possible cause of the failure. \n",
      "\u001b[1;31mClick <a href='https://aka.ms/vscodeJupyterKernelCrash'>here</a> for more info. \n",
      "\u001b[1;31mView Jupyter <a href='command:jupyter.viewOutput'>log</a> for further details."
     ]
    }
   ],
   "source": [
    "import turtle\n",
    "\n",
    "## This code works!\n",
    "\n",
    "def balloon(t, color):\n",
    "    t.speed(0)\n",
    "    t.color(color)\n",
    "\n",
    "    # Draw balloon body.\n",
    "    for side in range(30):\n",
    "        t.forward(10)\n",
    "        t.left(12)\n",
    "\n",
    "    # Draw balloon knot.\n",
    "    t.right(60)\n",
    "    for side in range(3):\n",
    "      t.forward(10)\n",
    "      t.right(120)\n",
    "    \n",
    "    # Draw balloon string.\n",
    "    t.color(\"gray\")\n",
    "    t.right(30)\n",
    "    t.forward(100)\n",
    "\n",
    "\n",
    "t = turtle.Turtle()\n",
    "\n",
    "t.penup()\n",
    "t.back(100)\n",
    "t.pendown()\n",
    "balloon(t, \"red\")\n",
    "\n",
    "t.penup()\n",
    "t.home()\n",
    "t.pendown()\n",
    "balloon(t, \"blue\")\n",
    "\n",
    "t.penup()\n",
    "t.home()\n",
    "t.forward(100)\n",
    "t.pendown()\n",
    "balloon(t, \"purple\")\n",
    "\n",
    "t.hideturtle()"
   ]
  },
  {
   "cell_type": "code",
   "execution_count": 1,
   "metadata": {},
   "outputs": [
    {
     "name": "stderr",
     "output_type": "stream",
     "text": [
      "2025-02-20 22:54:20.085 python[1918:22118] +[IMKClient subclass]: chose IMKClient_Modern\n",
      "2025-02-20 22:54:20.085 python[1918:22118] +[IMKInputSession subclass]: chose IMKInputSession_Modern\n"
     ]
    }
   ],
   "source": [
    "import turtle\n",
    "t = turtle.Turtle()\n",
    "t.width(5)\n",
    "t.color(\"limegreen\")\n",
    "\n",
    "for step in range(21):\n",
    "  t.forward(10)  # just one!\n",
    "\n",
    "  # Alternate turning left and right.\n",
    "  if step % 2 == 0:\n",
    "    t.left(90)\n",
    "  else:\n",
    "    t.right(90)\n",
    "\n",
    "t.hideturtle()"
   ]
  },
  {
   "cell_type": "code",
   "execution_count": 2,
   "metadata": {},
   "outputs": [],
   "source": [
    "import turtle\n",
    "\n",
    "t = turtle.Turtle()\n",
    "t.width(5)\n",
    "\n",
    "for n in range(12):\n",
    "    t.color(\"gray\")\n",
    "    if n % 3 == 0:\n",
    "        t.color(\"red\")\n",
    "    if n % 3 == 1:\n",
    "        t.color(\"orange\")\n",
    "    if n % 3 == 2:\n",
    "        t.color(\"yellow\")\n",
    "    t.forward(50)\n",
    "    t.right(360/12)"
   ]
  },
  {
   "cell_type": "code",
   "execution_count": 4,
   "metadata": {},
   "outputs": [],
   "source": [
    "import turtle\n",
    "t = turtle.Turtle()\n",
    "t.color(\"red\")\n",
    "t.width(1)\n",
    "t.speed(0)\n",
    "t.hideturtle()\n",
    "\n",
    "def square(number):\n",
    "    return number * number\n",
    "\n",
    "for n in range(540):\n",
    "    angle = square(n)\n",
    "    t.right(angle + .5)\n",
    "    t.forward(5)"
   ]
  },
  {
   "cell_type": "code",
   "execution_count": 5,
   "metadata": {},
   "outputs": [],
   "source": [
    "import turtle\n",
    "\n",
    "def polygon(sides, length):\n",
    "  t = turtle.Turtle()\n",
    "  t.color(\"lime\")\n",
    "  t.speed(0)\n",
    "  angle = 360 / sides\n",
    "  for side in range(sides):\n",
    "    t.forward(length)\n",
    "    t.right(angle)\n",
    "  t.hideturtle()\n",
    "\n",
    "for n in [3, 4, 5, 6, 7, 8, 9, 10, 11, 12, 13, 14]:\n",
    "    polygon(n, 35)"
   ]
  },
  {
   "cell_type": "markdown",
   "metadata": {},
   "source": [
    "#Strings & Lists"
   ]
  },
  {
   "cell_type": "code",
   "execution_count": 1,
   "metadata": {},
   "outputs": [
    {
     "data": {
      "text/plain": [
       "6"
      ]
     },
     "execution_count": 1,
     "metadata": {},
     "output_type": "execute_result"
    }
   ],
   "source": [
    "len(\"Python\")"
   ]
  },
  {
   "cell_type": "code",
   "execution_count": 2,
   "metadata": {},
   "outputs": [
    {
     "data": {
      "text/plain": [
       "0"
      ]
     },
     "execution_count": 2,
     "metadata": {},
     "output_type": "execute_result"
    }
   ],
   "source": [
    "len(\"\")"
   ]
  },
  {
   "cell_type": "code",
   "execution_count": 6,
   "metadata": {},
   "outputs": [
    {
     "data": {
      "text/plain": [
       "'🐍'"
      ]
     },
     "execution_count": 6,
     "metadata": {},
     "output_type": "execute_result"
    }
   ],
   "source": [
    "import unicodedata\n",
    "unicodedata.lookup(\"snake\")"
   ]
  },
  {
   "cell_type": "code",
   "execution_count": 7,
   "metadata": {},
   "outputs": [
    {
     "name": "stdout",
     "output_type": "stream",
     "text": [
      "3\n"
     ]
    }
   ],
   "source": [
    "count = 0\n",
    "\n",
    "for ch in \"bonobos\":\n",
    "    if ch == \"o\":\n",
    "        count = count + 1\n",
    "        \n",
    "print(count)\n"
   ]
  },
  {
   "cell_type": "code",
   "execution_count": 8,
   "metadata": {},
   "outputs": [
    {
     "data": {
      "text/plain": [
       "4"
      ]
     },
     "execution_count": 8,
     "metadata": {},
     "output_type": "execute_result"
    }
   ],
   "source": [
    "def count_character(string, target):\n",
    "    count = 0\n",
    "    for ch in string:\n",
    "        if ch == target:\n",
    "            count = count + 1\n",
    "    return count\n",
    "\n",
    "count_character(\"a banana!\", \"a\")"
   ]
  },
  {
   "cell_type": "code",
   "execution_count": 9,
   "metadata": {},
   "outputs": [
    {
     "name": "stdout",
     "output_type": "stream",
     "text": [
      "kitten\n",
      "kitte\n",
      "kitt\n",
      "kit\n",
      "ki\n",
      "k\n"
     ]
    }
   ],
   "source": [
    "def word_triangle(word):\n",
    "  length = len(word)\n",
    "  for n in range(length):\n",
    "    print(word[:length - n])\n",
    "\n",
    "word_triangle(\"kitten\")"
   ]
  },
  {
   "cell_type": "code",
   "execution_count": 10,
   "metadata": {},
   "outputs": [
    {
     "name": "stdout",
     "output_type": "stream",
     "text": [
      "\n",
      "Hi, Saurav! It's very nice to meet you.\n",
      "\n",
      "\n",
      "Ah, Black, what a lovely color!\n"
     ]
    }
   ],
   "source": [
    "name = input(\"What's your name?\\n\\n\")\n",
    "print(f\"\\nHi, {name}! It's very nice to meet you.\\n\")\n",
    "color = input(\"What's your favorite color?\\n\\n\")\n",
    "print(f\"\\nAh, {color}, what a lovely color!\")"
   ]
  },
  {
   "cell_type": "code",
   "execution_count": 1,
   "metadata": {},
   "outputs": [
    {
     "name": "stdout",
     "output_type": "stream",
     "text": [
      "abracadabra\n",
      "abracadabr\n",
      "abracadab\n",
      "abracada\n",
      "abracad\n",
      "abraca\n",
      "abrac\n",
      "abra\n",
      "abr\n",
      "ab\n",
      "a\n"
     ]
    }
   ],
   "source": [
    "s = \"abracadabra\"\n",
    "index = len(s)\n",
    "while index > 0:\n",
    "    print(s[:index])\n",
    "    index -= 1"
   ]
  },
  {
   "cell_type": "code",
   "execution_count": 2,
   "metadata": {},
   "outputs": [
    {
     "data": {
      "text/plain": [
       "3"
      ]
     },
     "execution_count": 2,
     "metadata": {},
     "output_type": "execute_result"
    }
   ],
   "source": [
    "def count_character(string, target):\n",
    "    index = 0\n",
    "    total = 0\n",
    "    while index < len(string):\n",
    "        if string[index] == target:\n",
    "            total += 1\n",
    "        index += 1\n",
    "    return total\n",
    "\n",
    "count_character(\"banana\", \"a\")"
   ]
  },
  {
   "cell_type": "code",
   "execution_count": 3,
   "metadata": {},
   "outputs": [
    {
     "data": {
      "text/plain": [
       "True"
      ]
     },
     "execution_count": 3,
     "metadata": {},
     "output_type": "execute_result"
    }
   ],
   "source": [
    "def is_substring(substring, string):\n",
    "    index = 0\n",
    "    while index < len(string):\n",
    "        if string[index : index + len(substring)] == substring:\n",
    "            return True\n",
    "        index += 1\n",
    "    return False\n",
    "\n",
    "is_substring(\"dab\", \"abracadabra\")"
   ]
  },
  {
   "cell_type": "code",
   "execution_count": 4,
   "metadata": {},
   "outputs": [
    {
     "data": {
      "text/plain": [
       "2"
      ]
     },
     "execution_count": 4,
     "metadata": {},
     "output_type": "execute_result"
    }
   ],
   "source": [
    "def count_substring(string, target):\n",
    "    total = 0\n",
    "    index = 0\n",
    "    while index < len(string):\n",
    "        if string[index : index + len(target)] == target:\n",
    "            total += 1\n",
    "            index += len(target)   # <- This is the key line\n",
    "        else:\n",
    "            index += 1\n",
    "    return total\n",
    "\n",
    "count_substring(\"banana\", \"an\")"
   ]
  },
  {
   "cell_type": "code",
   "execution_count": 5,
   "metadata": {},
   "outputs": [
    {
     "name": "stdout",
     "output_type": "stream",
     "text": [
      "Haiku frogs in snow<br>A limerick came from Nantucket<br>Tetrametric drum-beats thrumming, Hiawathianic rhythm.\n"
     ]
    }
   ],
   "source": [
    "lines = [\"Haiku frogs in snow\",\n",
    "         \"A limerick came from Nantucket\",\n",
    "         \"Tetrametric drum-beats thrumming, Hiawathianic rhythm.\"]\n",
    "\n",
    "def breakify(strings):\n",
    "    return \"<br>\".join(strings)\n",
    "  \n",
    "print(breakify(lines))"
   ]
  },
  {
   "cell_type": "markdown",
   "metadata": {},
   "source": [
    "#Style & Structure"
   ]
  },
  {
   "cell_type": "code",
   "execution_count": null,
   "metadata": {},
   "outputs": [
    {
     "name": "stdout",
     "output_type": "stream",
     "text": [
      "Hello! I am Bob, the Breakfast Bot.\n",
      "Today we have two breakfasts available.\n",
      "The first is waffles with strawberries and whipped cream.\n",
      "The second is sweet potato pancakes with butter and syrup.\n",
      "Pancakes it is!\n",
      "Your order will be ready shortly.\n",
      "OK, goodbye!\n"
     ]
    }
   ],
   "source": [
    "# before refactoring\n",
    "import time\n",
    "\n",
    "print(\"Hello! I am Bob, the Breakfast Bot.\")\n",
    "time.sleep(2)\n",
    "print(\"Today we have two breakfasts available.\")\n",
    "time.sleep(2)\n",
    "print(\"The first is waffles with strawberries and whipped cream.\")\n",
    "time.sleep(2)\n",
    "print(\"The second is sweet potato pancakes with butter and syrup.\")\n",
    "time.sleep(2)\n",
    "\n",
    "while True:\n",
    "    while True:\n",
    "        response = input(\"Please place your order. \"\n",
    "                         \"Would you like waffles or pancakes?\\n\").lower()\n",
    "        if \"waffles\" in response:\n",
    "            print(\"Waffles it is!\")\n",
    "            time.sleep(2)\n",
    "            break\n",
    "        elif \"pancakes\" in response:\n",
    "            print(\"Pancakes it is!\")\n",
    "            time.sleep(2)\n",
    "            break\n",
    "        else:\n",
    "            print(\"Sorry, I don't understand.\")\n",
    "            time.sleep(2)\n",
    "    print(\"Your order will be ready shortly.\")\n",
    "    time.sleep(2)\n",
    "    while True:\n",
    "        order_again = input(\"Would you like to place another order? \"\n",
    "                            \"Please say 'yes' or 'no'.\\n\").lower()\n",
    "        if 'no' in order_again:\n",
    "            print(\"OK, goodbye!\")\n",
    "            time.sleep(2)\n",
    "            break\n",
    "        elif 'yes' in order_again:\n",
    "            print(\"Very good, I'm happy to take another order.\")\n",
    "            time.sleep(2)\n",
    "            break\n",
    "        else:\n",
    "            print(\"Sorry, I don't understand.\")\n",
    "            time.sleep(2)\n",
    "    if 'no' in order_again: \n",
    "        break"
   ]
  },
  {
   "cell_type": "code",
   "execution_count": 4,
   "metadata": {},
   "outputs": [
    {
     "name": "stdout",
     "output_type": "stream",
     "text": [
      "Hello! I am Bob, the Breakfast Bot.\n",
      "Today we have two breakfasts available.\n",
      "The first is waffles with strawberries and whipped cream.\n",
      "The second is sweet potato pancakes with butter and syrup.\n",
      "Waffles it is!\n",
      "Your order will be ready shortly.\n",
      "OK, goodbye!\n"
     ]
    }
   ],
   "source": [
    "# after refactoring\n",
    "\n",
    "import time\n",
    "\n",
    "\n",
    "def print_pause(message_to_print):\n",
    "    print(message_to_print)\n",
    "    time.sleep(2)\n",
    "\n",
    "\n",
    "def valid_input(prompt, option1, option2):\n",
    "    while True:\n",
    "        response = input(prompt).lower()\n",
    "        if option1 in response:\n",
    "            break\n",
    "        elif option2 in response:\n",
    "            break\n",
    "        else:\n",
    "            print_pause(\"Sorry, I don't understand.\")\n",
    "    return response\n",
    "\n",
    "\n",
    "def intro():\n",
    "    print_pause(\"Hello! I am Bob, the Breakfast Bot.\")\n",
    "    print_pause(\"Today we have two breakfasts available.\")\n",
    "    print_pause(\"The first is waffles with strawberries and whipped cream.\")\n",
    "    print_pause(\"The second is sweet potato pancakes with butter and syrup.\")\n",
    "\n",
    "\n",
    "def get_order():\n",
    "    response = valid_input(\"Please place your order. \"\n",
    "                           \"Would you like waffles or pancakes?\\n\",\n",
    "                           \"waffles\", \"pancakes\")\n",
    "    if \"waffles\" in response:\n",
    "        print_pause(\"Waffles it is!\")\n",
    "    elif \"pancakes\" in response:\n",
    "        print_pause(\"Pancakes it is!\")\n",
    "    print_pause(\"Your order will be ready shortly.\")\n",
    "    order_again()\n",
    "\n",
    "def order_again():\n",
    "    response = valid_input(\"Would you like to place another order? \"\n",
    "                              \"Please say 'yes' or 'no'.\\n\",\n",
    "                              \"yes\", \"no\")\n",
    "    if \"no\" in response:\n",
    "        print_pause(\"OK, goodbye!\")\n",
    "    elif \"yes\" in response:\n",
    "        print_pause(\"Very good, I'm happy to take another order.\")\n",
    "        get_order()\n",
    "\n",
    "\n",
    "def order_breakfast():\n",
    "    intro()\n",
    "    get_order()\n",
    "\n",
    "\n",
    "order_breakfast()"
   ]
  },
  {
   "cell_type": "code",
   "execution_count": 5,
   "metadata": {},
   "outputs": [
    {
     "name": "stdout",
     "output_type": "stream",
     "text": [
      "You have just arrived at your new job!\n",
      "You are in the elevator.\n",
      "Please enter the number for the floor you would like to visit:\n",
      "You push the button for the first floor.\n",
      "After a few moments, you find yourself in the lobby.\n",
      "The clerk greets you and gives you your ID card.\n",
      "Where would you like to go next?\n",
      "Please enter the number for the floor you would like to visit:\n",
      "You push the button for the second floor.\n",
      "After a few moments, you find yourself in the human resources department.\n",
      "The head of HR greets you.\n",
      "He looks at your ID card and then gives you a copy of the employee handbook.\n",
      "You head back to the elevator.\n",
      "Where would you like to go next?\n",
      "Please enter the number for the floor you would like to visit:\n",
      "You push the button for the third floor.\n",
      "After a few moments, you find yourself in the engineering department.\n",
      "This is where you work!\n",
      "You use your ID card to open the door.\n",
      "Your program manager greets you and tells you that you need to have a copy of the employee handbook in order to start work.\n",
      "Fortunately, you got that from HR!\n",
      "Congratulatons! You are ready to start your new job as vice president of engineering!\n"
     ]
    }
   ],
   "source": [
    "# before refactoring\n",
    "\n",
    "import time\n",
    "items = []\n",
    "\n",
    "def print_pause(message_to_print):\n",
    "    print(message_to_print)\n",
    "    time.sleep(1)\n",
    "\n",
    "\n",
    "print_pause(\"You have just arrived at your new job!\")\n",
    "print_pause(\"You are in the elevator.\")\n",
    "\n",
    "while True:\n",
    "    print_pause(\"Please enter the number for the \"\n",
    "                \"floor you would like to visit:\")\n",
    "    floor = input(\"1. Lobby\\n\"\n",
    "                  \"2. Human resources\\n\"\n",
    "                  \"3. Engineering department\\n\")\n",
    "    if floor == '1':\n",
    "        print_pause(\"You push the button for the first floor.\")\n",
    "        print_pause(\"After a few moments, you find \"\n",
    "                    \"yourself in the lobby.\")\n",
    "        if \"ID card\" in items:\n",
    "            print_pause(\"The clerk greets you, but she has already \"\n",
    "                        \"given you your ID card, so there is nothing \"\n",
    "                        \"more to do here now.\")\n",
    "        else:\n",
    "            print_pause(\"The clerk greets you and gives you your ID \"\n",
    "                        \"card.\")\n",
    "            items.append(\"ID card\")\n",
    "    elif floor == '2':\n",
    "        print_pause(\"You push the button for the second floor.\")\n",
    "        print_pause(\"After a few moments, you find yourself \"\n",
    "                    \"in the human resources department.\")\n",
    "        if \"handbook\" in items:\n",
    "            print_pause(\"The HR folks are busy at their desks.\")\n",
    "            print_pause(\"There doesn't seem to be much to do here.\")\n",
    "        else:\n",
    "            print_pause(\"The head of HR greets you.\")\n",
    "            if \"ID card\" in items:\n",
    "                print_pause(\"He looks at your ID card and then \"\n",
    "                            \"gives you a copy of the employee handbook.\")\n",
    "                items.append(\"handbook\")\n",
    "            else:\n",
    "                print_pause(\"He has something for you, but says he can't \"\n",
    "                            \"give it to you until you go get your ID card.\")\n",
    "        print_pause(\"You head back to the elevator.\")\n",
    "    elif floor == '3':\n",
    "        print_pause(\"You push the button for the third floor.\")\n",
    "        print_pause(\"After a few moments, you find yourself \"\n",
    "                    \"in the engineering department.\")\n",
    "        print_pause(\"This is where you work!\")\n",
    "        if \"ID card\" in items:\n",
    "            print_pause(\"You use your ID card to open the door.\")\n",
    "            print_pause(\"Your program manager greets you and tells \"\n",
    "                        \"you that you need to have a copy of the \"\n",
    "                        \"employee handbook in order to start work.\")\n",
    "            if \"handbook\" in items:\n",
    "                print_pause(\"Fortunately, you got that from HR!\")\n",
    "                print_pause(\"Congratulatons! You are ready to start your new job \"\n",
    "                            \"as vice president of engineering!\")\n",
    "                break\n",
    "            else:\n",
    "                print_pause(\"They scowl when they see that you don't have it, \"\n",
    "                            \"and send you back to the elevator.\")\n",
    "        else:\n",
    "            print_pause(\"Unfortunately, the door is locked \"\n",
    "                        \"and you can't get in.\")\n",
    "            print_pause(\"It looks like you need some kind of \"\n",
    "                        \"key card to open the door.\")\n",
    "            print_pause(\"You head back to the elevator.\")\n",
    "\n",
    "    print_pause(\"Where would you like to go next?\")"
   ]
  },
  {
   "cell_type": "code",
   "execution_count": 6,
   "metadata": {},
   "outputs": [
    {
     "name": "stdout",
     "output_type": "stream",
     "text": [
      "You have just arrived at your new job!\n",
      "You are in the elevator.\n",
      "Please enter the number for the floor you would like to visit:\n",
      "You push the button for the first floor.\n",
      "After a few moments, you find yourself in the lobby.\n",
      "The clerk greets you and gives you your ID card.\n",
      "Where would you like to go next?\n",
      "Please enter the number for the floor you would like to visit:\n",
      "You push the button for the second floor.\n",
      "After a few moments, you find yourself in the human resources department.\n",
      "The head of HR greets you.\n",
      "He looks at your ID card and then gives you a copy of the employee handbook.\n",
      "You head back to the elevator.\n",
      "Where would you like to go next?\n",
      "Please enter the number for the floor you would like to visit:\n",
      "You push the button for the first floor.\n",
      "After a few moments, you find yourself in the lobby.\n",
      "The clerk greets you, but she has already given you your ID card, so there is nothing more to do here now.\n",
      "Where would you like to go next?\n",
      "Please enter the number for the floor you would like to visit:\n",
      "You push the button for the second floor.\n",
      "After a few moments, you find yourself in the human resources department.\n",
      "The HR folks are busy at their desks.\n",
      "There doesn't seem to be much to do here.\n",
      "You head back to the elevator.\n",
      "Where would you like to go next?\n",
      "Please enter the number for the floor you would like to visit:\n",
      "You push the button for the third floor.\n",
      "After a few moments, you find yourself in the engineering department.\n",
      "This is where you work!\n",
      "You use your ID card to open the door.\n",
      "Your program manager greets you and tells you that you need to have a copy of the employee handbook in order to start work.\n",
      "Fortunately, you got that from HR!\n",
      "Congratulatons! You are ready to start your new job as vice president of engineering!\n"
     ]
    }
   ],
   "source": [
    "# after refactoring\n",
    "\n",
    "import time\n",
    "items = []\n",
    "\n",
    "def print_pause(message_to_print):\n",
    "    print(message_to_print)\n",
    "    time.sleep(1)\n",
    "\n",
    "\n",
    "print_pause(\"You have just arrived at your new job!\")\n",
    "print_pause(\"You are in the elevator.\")\n",
    "\n",
    "while True:\n",
    "    print_pause(\"Please enter the number for the \"\n",
    "                \"floor you would like to visit:\")\n",
    "    floor = input(\"1. Lobby\\n\"\n",
    "                  \"2. Human resources\\n\"\n",
    "                  \"3. Engineering department\\n\")\n",
    "    if floor == '1':\n",
    "        print_pause(\"You push the button for the first floor.\")\n",
    "        print_pause(\"After a few moments, you find \"\n",
    "                    \"yourself in the lobby.\")\n",
    "        if \"ID card\" in items:\n",
    "            print_pause(\"The clerk greets you, but she has already \"\n",
    "                        \"given you your ID card, so there is nothing \"\n",
    "                        \"more to do here now.\")\n",
    "        else:\n",
    "            print_pause(\"The clerk greets you and gives you your ID \"\n",
    "                        \"card.\")\n",
    "            items.append(\"ID card\")\n",
    "    elif floor == '2':\n",
    "        print_pause(\"You push the button for the second floor.\")\n",
    "        print_pause(\"After a few moments, you find yourself \"\n",
    "                    \"in the human resources department.\")\n",
    "        if \"handbook\" in items:\n",
    "            print_pause(\"The HR folks are busy at their desks.\")\n",
    "            print_pause(\"There doesn't seem to be much to do here.\")\n",
    "        else:\n",
    "            print_pause(\"The head of HR greets you.\")\n",
    "            if \"ID card\" in items:\n",
    "                print_pause(\"He looks at your ID card and then \"\n",
    "                            \"gives you a copy of the employee handbook.\")\n",
    "                items.append(\"handbook\")\n",
    "            else:\n",
    "                print_pause(\"He has something for you, but says he can't \"\n",
    "                            \"give it to you until you go get your ID card.\")\n",
    "        print_pause(\"You head back to the elevator.\")\n",
    "    elif floor == '3':\n",
    "        print_pause(\"You push the button for the third floor.\")\n",
    "        print_pause(\"After a few moments, you find yourself \"\n",
    "                    \"in the engineering department.\")\n",
    "        print_pause(\"This is where you work!\")\n",
    "        if \"ID card\" in items:\n",
    "            print_pause(\"You use your ID card to open the door.\")\n",
    "            print_pause(\"Your program manager greets you and tells \"\n",
    "                        \"you that you need to have a copy of the \"\n",
    "                        \"employee handbook in order to start work.\")\n",
    "            if \"handbook\" in items:\n",
    "                print_pause(\"Fortunately, you got that from HR!\")\n",
    "                print_pause(\"Congratulatons! You are ready to start your new job \"\n",
    "                            \"as vice president of engineering!\")\n",
    "                break\n",
    "            else:\n",
    "                print_pause(\"They scowl when they see that you don't have it, \"\n",
    "                            \"and send you back to the elevator.\")\n",
    "        else:\n",
    "            print_pause(\"Unfortunately, the door is locked \"\n",
    "                        \"and you can't get in.\")\n",
    "            print_pause(\"It looks like you need some kind of \"\n",
    "                        \"key card to open the door.\")\n",
    "            print_pause(\"You head back to the elevator.\")\n",
    "\n",
    "    print_pause(\"Where would you like to go next?\")"
   ]
  },
  {
   "cell_type": "code",
   "execution_count": null,
   "metadata": {},
   "outputs": [],
   "source": []
  }
 ],
 "metadata": {
  "kernelspec": {
   "display_name": "base",
   "language": "python",
   "name": "python3"
  },
  "language_info": {
   "codemirror_mode": {
    "name": "ipython",
    "version": 3
   },
   "file_extension": ".py",
   "mimetype": "text/x-python",
   "name": "python",
   "nbconvert_exporter": "python",
   "pygments_lexer": "ipython3",
   "version": "3.12.4"
  }
 },
 "nbformat": 4,
 "nbformat_minor": 2
}
