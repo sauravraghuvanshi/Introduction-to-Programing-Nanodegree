{
 "cells": [
  {
   "cell_type": "code",
   "execution_count": null,
   "metadata": {},
   "outputs": [
    {
     "name": "stdout",
     "output_type": "stream",
     "text": [
      "{'coord': {'lon': -74.006, 'lat': 40.7143}, 'weather': [{'id': 721, 'main': 'Haze', 'description': 'haze', 'icon': '50d'}], 'base': 'stations', 'main': {'temp': 282.48, 'feels_like': 279.49, 'temp_min': 281.46, 'temp_max': 284.46, 'pressure': 1005, 'humidity': 87, 'sea_level': 1005, 'grnd_level': 1004}, 'visibility': 10000, 'wind': {'speed': 6.17, 'deg': 150, 'gust': 8.23}, 'clouds': {'all': 100}, 'dt': 1742496792, 'sys': {'type': 2, 'id': 2037026, 'country': 'US', 'sunrise': 1742468343, 'sunset': 1742512065}, 'timezone': -14400, 'id': 5128581, 'name': 'New York', 'cod': 200}\n"
     ]
    }
   ],
   "source": [
    "import requests\n",
    "\n",
    "r = requests.get('https://api.openweathermap.org/data/2.5/weather?q=New%20York&appid=**********')\n",
    "\n",
    "print(r.json())"
   ]
  },
  {
   "cell_type": "code",
   "execution_count": 2,
   "metadata": {},
   "outputs": [
    {
     "name": "stdout",
     "output_type": "stream",
     "text": [
      "Page not found.\n"
     ]
    }
   ],
   "source": [
    "import requests\n",
    "r = requests.get('https://www.google.com/monkeybagel/')\n",
    "\n",
    "if r.status_code == 404:\n",
    "    print(\"Page not found.\")"
   ]
  },
  {
   "cell_type": "code",
   "execution_count": null,
   "metadata": {},
   "outputs": [],
   "source": []
  }
 ],
 "metadata": {
  "kernelspec": {
   "display_name": "base",
   "language": "python",
   "name": "python3"
  },
  "language_info": {
   "codemirror_mode": {
    "name": "ipython",
    "version": 3
   },
   "file_extension": ".py",
   "mimetype": "text/x-python",
   "name": "python",
   "nbconvert_exporter": "python",
   "pygments_lexer": "ipython3",
   "version": "3.12.4"
  }
 },
 "nbformat": 4,
 "nbformat_minor": 2
}
