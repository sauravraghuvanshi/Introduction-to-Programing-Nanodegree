{
 "cells": [
  {
   "cell_type": "code",
   "execution_count": 1,
   "metadata": {},
   "outputs": [
    {
     "data": {
      "text/plain": [
       "['2017-04-02_Brooklyn_23:15:06.jpg',\n",
       " '2016-11-29_Berlin_04:32:38.jpg',\n",
       " '2016-09-04_Berlin_08:25:50.jpg',\n",
       " '2018-12-18_Yosemite_11:00:17.jpg',\n",
       " '2017-04-02_Berlin_01:35:36.jpg',\n",
       " '2018-08-01_Oahu_21:51:37.jpg',\n",
       " '2017-09-27_Firenze_03:49:17.jpg',\n",
       " '2018-02-12_Scotland_00:05:24.jpg',\n",
       " '2017-06-20_Yosemite_12:17:53.jpg',\n",
       " '2018-01-08_Scotland_15:13:29.jpg',\n",
       " '2018-07-28_Berlin_02:38:04.jpg',\n",
       " '2018-06-27_Kyoto_22:14:01.jpg',\n",
       " '2017-01-13_Yosemite_03:36:50.jpg',\n",
       " '2017-02-35_Kyoto_18:12:25.jpg',\n",
       " '2018-01-23_Cancun_01:46:43.jpg',\n",
       " '2018-05-17_Cancun_06:43:19.jpg',\n",
       " '2018-11-05_Kyoto_17:12:22.jpg',\n",
       " '2018-06-10_Cancun_20:42:07.jpg',\n",
       " '2018-10-28_Firenze_10:00:18.jpg',\n",
       " '2016-11-04_Berlin_09:42:22.jpg',\n",
       " '2017-10-10_Brooklyn_22:09:38.jpg',\n",
       " '2018-02-09_Kyoto_19:11:24.jpg',\n",
       " '2017-06-29_Firenze_22:01:03.jpg',\n",
       " '2018-08-16_Oahu_22:12:06.jpg',\n",
       " '2018-02-07_Kyoto_17:42:59.jpg',\n",
       " '2018-01-03_Scotland_21:51:57.jpg',\n",
       " '2017-07-30_Cancun_07:50:45.jpg']"
      ]
     },
     "execution_count": 1,
     "metadata": {},
     "output_type": "execute_result"
    }
   ],
   "source": [
    "import os\n",
    "\n",
    "os.listdir('Photos')"
   ]
  },
  {
   "cell_type": "code",
   "execution_count": 2,
   "metadata": {},
   "outputs": [],
   "source": [
    "os.mkdir(\"Organized_Photos\")"
   ]
  },
  {
   "cell_type": "code",
   "execution_count": null,
   "metadata": {},
   "outputs": [],
   "source": [
    "## os.rename(\"src\", \"dst\")"
   ]
  },
  {
   "cell_type": "code",
   "execution_count": null,
   "metadata": {},
   "outputs": [],
   "source": [
    "## os.getcwd()"
   ]
  },
  {
   "cell_type": "code",
   "execution_count": 1,
   "metadata": {},
   "outputs": [],
   "source": [
    "import os\n",
    "\n",
    "def make_place_directories(places): # Here's the function definition\n",
    "    for place in places:\n",
    "        os.mkdir(place)\n",
    "\n",
    "def extract_place(filename):\n",
    "    return filename.split('_')[1]\n",
    "\n",
    "def organize_photos(directory):\n",
    "    os.chdir(directory)\n",
    "    originals = os.listdir()\n",
    "    places = []\n",
    "    for filename in originals:\n",
    "        place = extract_place(filename)\n",
    "        if place not in places: # This is the key change\n",
    "            places.append(place)\n",
    "\n",
    "    make_place_directories(places)\n",
    "\n",
    "    for filename in originals:\n",
    "        place = extract_place(filename)\n",
    "        os.rename(filename, os.path.join(place, filename))\n",
    "\n",
    "organize_photos(\"Photos\")"
   ]
  },
  {
   "cell_type": "code",
   "execution_count": 1,
   "metadata": {},
   "outputs": [],
   "source": [
    "import random\n",
    "letters = ['a'] * 100\n",
    "\n",
    "b_location = random.randint(0, 99)\n",
    "letters[b_location] = 'b'"
   ]
  },
  {
   "cell_type": "code",
   "execution_count": 3,
   "metadata": {},
   "outputs": [
    {
     "name": "stdout",
     "output_type": "stream",
     "text": [
      "aaaaaaaaaaaaaaaaaaaaaaaaaaaaabaaaaaaaaaaaaaaaaaaaaaaaaaaaaaaaaaaaaaaaaaaaaaaaaaaaaaaaaaaaaaaaaaaaaaa\n"
     ]
    }
   ],
   "source": [
    "letters = \"\".join(letters)\n",
    "\n",
    "print(letters)"
   ]
  },
  {
   "cell_type": "code",
   "execution_count": 4,
   "metadata": {},
   "outputs": [
    {
     "name": "stdout",
     "output_type": "stream",
     "text": [
      "Looking for 'b' ...\n",
      "Not yet.\n",
      "Not yet.\n",
      "Not yet.\n",
      "Not yet.\n",
      "Not yet.\n",
      "Not yet.\n",
      "Not yet.\n",
      "Not yet.\n",
      "Not yet.\n",
      "Not yet.\n",
      "Not yet.\n",
      "Not yet.\n",
      "Not yet.\n",
      "Not yet.\n",
      "Not yet.\n",
      "Not yet.\n",
      "Not yet.\n",
      "Not yet.\n",
      "Not yet.\n",
      "Not yet.\n",
      "Not yet.\n",
      "Not yet.\n",
      "Not yet.\n",
      "Not yet.\n",
      "Not yet.\n",
      "Not yet.\n",
      "Not yet.\n",
      "Not yet.\n",
      "Not yet.\n",
      "Found it! The letter 'b' is at position 29.\n"
     ]
    }
   ],
   "source": [
    "print(\"Looking for 'b' ...\")\n",
    "pos = 0 # Start at position 0, the first character in the string\n",
    "while letters[pos] != 'b': # If the current character is NOT 'b', enter the loop.\n",
    "    pos += 1 # Move on to the next character.\n",
    "    print(\"Not yet.\")\n",
    "# If we have exited the loop, that means the current character must be 'b'.\n",
    "print(f\"Found it! The letter 'b' is at position {pos}.\" )"
   ]
  },
  {
   "cell_type": "code",
   "execution_count": 8,
   "metadata": {},
   "outputs": [
    {
     "name": "stdout",
     "output_type": "stream",
     "text": [
      "Found rude word: darn\n",
      "Found rude word: jerk\n",
      "Found rude word: darn\n",
      "Found rude word: heck\n"
     ]
    }
   ],
   "source": [
    "#find rude works in a file\n",
    "\n",
    "import string\n",
    "\n",
    "rude_words = [\"crap\", \"darn\", \"heck\", \"jerk\", \"idiot\", \"butt\", \"devil\"]\n",
    "\n",
    "def check_line(line):\n",
    "    rude_count = 0\n",
    "    words = line.split(\" \")\n",
    "    for word in words:\n",
    "        word = word.strip(string.punctuation).lower()\n",
    "        if word in rude_words:\n",
    "            rude_count += 1\n",
    "            print(f\"Found rude word: {word}\")\n",
    "    return rude_count\n",
    "\n",
    "def check_file(filename):\n",
    "    with open(filename) as myfile:\n",
    "        rude_count = 0\n",
    "        for line in myfile:\n",
    "            rude_count += check_line(line)\n",
    "\n",
    "    if rude_count == 0:\n",
    "        print(\"Congratulations, your file has no rude words.\")\n",
    "        print(\"At least, no rude words I know.\")\n",
    "\n",
    "if __name__ == '__main__':\n",
    "    check_file(\"my_story.txt\")"
   ]
  },
  {
   "cell_type": "code",
   "execution_count": null,
   "metadata": {},
   "outputs": [],
   "source": []
  }
 ],
 "metadata": {
  "kernelspec": {
   "display_name": "base",
   "language": "python",
   "name": "python3"
  },
  "language_info": {
   "codemirror_mode": {
    "name": "ipython",
    "version": 3
   },
   "file_extension": ".py",
   "mimetype": "text/x-python",
   "name": "python",
   "nbconvert_exporter": "python",
   "pygments_lexer": "ipython3",
   "version": "3.12.4"
  }
 },
 "nbformat": 4,
 "nbformat_minor": 2
}
