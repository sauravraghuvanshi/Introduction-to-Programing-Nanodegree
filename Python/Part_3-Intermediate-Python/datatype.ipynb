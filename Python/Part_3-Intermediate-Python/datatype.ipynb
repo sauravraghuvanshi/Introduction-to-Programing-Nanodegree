{
 "cells": [
  {
   "cell_type": "code",
   "execution_count": 1,
   "id": "54d01991",
   "metadata": {},
   "outputs": [
    {
     "name": "stdout",
     "output_type": "stream",
     "text": [
      "Toyota ['Prius', 'Avalon', 'Camry', 'Tacoma']\n"
     ]
    }
   ],
   "source": [
    "make = ['Honda', 'Toyota', 'Ford', 'Tesla']\n",
    "model = ['Fit', 'Civic', 'Prius', 'Avalon', 'Camry', 'Tacoma', 'Mustang', 'Fiesta', 'F-150', 'S', '3', 'X', 'Y']\n",
    "\n",
    "\n",
    "print(make[1], model[2:6])"
   ]
  },
  {
   "cell_type": "code",
   "execution_count": null,
   "id": "ca3a1c05",
   "metadata": {},
   "outputs": [
    {
     "name": "stdout",
     "output_type": "stream",
     "text": [
      "0 0\n",
      "1 1\n",
      "2 1\n",
      "3 2\n",
      "4 3\n",
      "5 5\n",
      "6 8\n",
      "7 13\n",
      "8 21\n",
      "9 34\n"
     ]
    }
   ],
   "source": [
    "## febonacci\n",
    "a, b = 0, 1\n",
    "for i in range(10):\n",
    "    print(i, a)\n",
    "    a, b = b, a + b"
   ]
  },
  {
   "cell_type": "code",
   "execution_count": 1,
   "id": "5d2b25e7",
   "metadata": {},
   "outputs": [
    {
     "name": "stdout",
     "output_type": "stream",
     "text": [
      "0 red\n",
      "1 green\n",
      "2 blue\n"
     ]
    }
   ],
   "source": [
    "for index, color in enumerate(['red','green','blue']):\n",
    "    print(index, color)\n"
   ]
  },
  {
   "cell_type": "code",
   "execution_count": 1,
   "id": "27e2899a",
   "metadata": {},
   "outputs": [
    {
     "name": "stdout",
     "output_type": "stream",
     "text": [
      "{'one': 1, 'two': 2, 'three': 3}\n"
     ]
    }
   ],
   "source": [
    "c = dict(zip(['one', 'two', 'three'], [1, 2, 3]))\n",
    "print(c)"
   ]
  },
  {
   "cell_type": "code",
   "execution_count": 2,
   "id": "192db454",
   "metadata": {},
   "outputs": [
    {
     "name": "stdout",
     "output_type": "stream",
     "text": [
      "{1, 2, 3, 4}\n"
     ]
    }
   ],
   "source": [
    "set_from_list = set([1, 2, 3, 2, 3, 4, 3, 1, 2])\n",
    "\n",
    "print(set_from_list)"
   ]
  },
  {
   "cell_type": "code",
   "execution_count": 4,
   "id": "538c495e",
   "metadata": {},
   "outputs": [
    {
     "data": {
      "text/plain": [
       "{'b', 'd', 'r'}"
      ]
     },
     "execution_count": 4,
     "metadata": {},
     "output_type": "execute_result"
    }
   ],
   "source": [
    "a = set(\"abracadabra\")  # {'a', 'b', 'c', 'd', 'r'}\n",
    "b = set(\"alacazam\")     # {'a', 'm', 'c', 'l', 'z'}\n",
    "\n",
    "# Set difference\n",
    "a - b # => {'b', 'd', 'r'}"
   ]
  },
  {
   "cell_type": "code",
   "execution_count": 5,
   "id": "83ab0392",
   "metadata": {},
   "outputs": [
    {
     "data": {
      "text/plain": [
       "{'a', 'b', 'c', 'd', 'l', 'm', 'r', 'z'}"
      ]
     },
     "execution_count": 5,
     "metadata": {},
     "output_type": "execute_result"
    }
   ],
   "source": [
    "# Union\n",
    "a | b  # => {'a', 'b', 'c', 'd', 'l', 'm', 'r', 'z'}"
   ]
  },
  {
   "cell_type": "code",
   "execution_count": 6,
   "id": "a7808a4c",
   "metadata": {},
   "outputs": [
    {
     "data": {
      "text/plain": [
       "{'a', 'c'}"
      ]
     },
     "execution_count": 6,
     "metadata": {},
     "output_type": "execute_result"
    }
   ],
   "source": [
    "# Intersection\n",
    "a & b # => {'a', 'c'}\n"
   ]
  },
  {
   "cell_type": "code",
   "execution_count": 7,
   "id": "f9249ced",
   "metadata": {},
   "outputs": [
    {
     "data": {
      "text/plain": [
       "{'b', 'd', 'l', 'm', 'r', 'z'}"
      ]
     },
     "execution_count": 7,
     "metadata": {},
     "output_type": "execute_result"
    }
   ],
   "source": [
    "# Symmetric Difference\n",
    "a ^ b  # => {'b', 'd', 'l', 'm', 'r', 'z'}"
   ]
  },
  {
   "cell_type": "code",
   "execution_count": 8,
   "id": "8270ae38",
   "metadata": {},
   "outputs": [
    {
     "data": {
      "text/plain": [
       "False"
      ]
     },
     "execution_count": 8,
     "metadata": {},
     "output_type": "execute_result"
    }
   ],
   "source": [
    "# Subset\n",
    "a <= b  # => False"
   ]
  },
  {
   "cell_type": "code",
   "execution_count": 2,
   "id": "eac4d15a",
   "metadata": {},
   "outputs": [
    {
     "data": {
      "text/plain": [
       "True"
      ]
     },
     "execution_count": 2,
     "metadata": {},
     "output_type": "execute_result"
    }
   ],
   "source": [
    "\"\"\"Check whether a word is 'efficient' - if each letter can be drawn by a pencil without lifting.\"\"\"\n",
    "EFFICIENT_LETTERS = set('BCDGIJLMNOPSUVWZ')\n",
    "\n",
    "def is_efficient(letters):\n",
    "   return set(letters) <= EFFICIENT_LETTERS\n",
    "\n",
    "is_efficient(\"UNCONSCIOUS\")"
   ]
  },
  {
   "cell_type": "code",
   "execution_count": 7,
   "id": "e0226613",
   "metadata": {},
   "outputs": [
    {
     "data": {
      "text/plain": [
       "{1: 'a', 2: 'b'}"
      ]
     },
     "execution_count": 7,
     "metadata": {},
     "output_type": "execute_result"
    }
   ],
   "source": [
    "\"\"\"Swap the keys and values in a mapping.\"\"\"\n",
    "\n",
    "def swap_keys_and_values(d):\n",
    "    \"\"\"Swap the keys and values in a mapping.\"\"\"\n",
    "    return {v: k for k, v in d.items()}\n",
    "\n",
    "swap_keys_and_values({'a': 1, 'b': 2}) "
   ]
  },
  {
   "cell_type": "code",
   "execution_count": null,
   "id": "956b4953",
   "metadata": {},
   "outputs": [],
   "source": []
  }
 ],
 "metadata": {
  "kernelspec": {
   "display_name": "base",
   "language": "python",
   "name": "python3"
  },
  "language_info": {
   "codemirror_mode": {
    "name": "ipython",
    "version": 3
   },
   "file_extension": ".py",
   "mimetype": "text/x-python",
   "name": "python",
   "nbconvert_exporter": "python",
   "pygments_lexer": "ipython3",
   "version": "3.12.4"
  }
 },
 "nbformat": 4,
 "nbformat_minor": 5
}
