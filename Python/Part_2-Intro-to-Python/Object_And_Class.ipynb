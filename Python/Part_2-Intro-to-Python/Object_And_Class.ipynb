{
 "cells": [
  {
   "cell_type": "code",
   "execution_count": 1,
   "metadata": {},
   "outputs": [
    {
     "data": {
      "text/plain": [
       "True"
      ]
     },
     "execution_count": 1,
     "metadata": {},
     "output_type": "execute_result"
    }
   ],
   "source": [
    "isinstance(4, int)"
   ]
  },
  {
   "cell_type": "code",
   "execution_count": 2,
   "metadata": {},
   "outputs": [
    {
     "data": {
      "text/plain": [
       "True"
      ]
     },
     "execution_count": 2,
     "metadata": {},
     "output_type": "execute_result"
    }
   ],
   "source": [
    "isinstance(True, int)"
   ]
  },
  {
   "cell_type": "code",
   "execution_count": 1,
   "metadata": {},
   "outputs": [],
   "source": [
    "class Dog:\n",
    "    def speak(self):\n",
    "        return \"Woof!\""
   ]
  },
  {
   "cell_type": "code",
   "execution_count": 2,
   "metadata": {},
   "outputs": [
    {
     "data": {
      "text/plain": [
       "'Woof!'"
      ]
     },
     "execution_count": 2,
     "metadata": {},
     "output_type": "execute_result"
    }
   ],
   "source": [
    "fido = Dog()\n",
    "\n",
    "fido.speak()"
   ]
  },
  {
   "cell_type": "code",
   "execution_count": 3,
   "metadata": {},
   "outputs": [],
   "source": [
    "class Dog:\n",
    "    def speak(self):\n",
    "        print(\"Woof!\")\n",
    "\n",
    "class Cat:\n",
    "    def speak(self):\n",
    "        print(\"Meow!\")"
   ]
  },
  {
   "cell_type": "code",
   "execution_count": 4,
   "metadata": {},
   "outputs": [
    {
     "name": "stdout",
     "output_type": "stream",
     "text": [
      "Woof!\n",
      "Meow!\n"
     ]
    }
   ],
   "source": [
    "fido = Dog()\n",
    "felix = Cat()\n",
    "fido.speak()\n",
    "felix.speak()"
   ]
  },
  {
   "cell_type": "code",
   "execution_count": 5,
   "metadata": {},
   "outputs": [],
   "source": [
    "class Dog:\n",
    "    def speak(self):\n",
    "        print(\"Woof!\")\n",
    "\n",
    "    def eat(self, food):\n",
    "        if food == \"biscuit\":\n",
    "            print(\"Yummy!\")\n",
    "        else:\n",
    "            print(\"That's not food!\")"
   ]
  },
  {
   "cell_type": "code",
   "execution_count": 7,
   "metadata": {},
   "outputs": [
    {
     "name": "stdout",
     "output_type": "stream",
     "text": [
      "Woof!\n",
      "Yummy!\n",
      "That's not food!\n"
     ]
    }
   ],
   "source": [
    "fido = Dog()\n",
    "fido.speak()\n",
    "fido.eat(\"biscuit\")\n",
    "fido.eat(\"vegetable\")"
   ]
  },
  {
   "cell_type": "code",
   "execution_count": 8,
   "metadata": {},
   "outputs": [],
   "source": [
    "class Dog:\n",
    "\n",
    "    scientific_name = \"Canis lupus familiaris\"\n",
    "\n",
    "    def speak(self):\n",
    "        print(\"Woof!\")\n",
    "\n",
    "    def eat(self, food):\n",
    "        if food == \"biscuit\":\n",
    "            print(\"Yummy!\")\n",
    "        else:\n",
    "            print(\"That's not food!\")\n",
    "\n",
    "    def learn_name(self, name):\n",
    "        self.name = name\n",
    "\n",
    "    def hear(self, words):\n",
    "        if self.name in words:\n",
    "            self.speak()"
   ]
  },
  {
   "cell_type": "code",
   "execution_count": 9,
   "metadata": {},
   "outputs": [
    {
     "name": "stdout",
     "output_type": "stream",
     "text": [
      "Woof!\n"
     ]
    }
   ],
   "source": [
    "tommy = Dog()\n",
    "tommy.learn_name(\"Tommy\")\n",
    "tommy.hear(\"Tommy, come here!\")"
   ]
  },
  {
   "cell_type": "code",
   "execution_count": 10,
   "metadata": {},
   "outputs": [
    {
     "ename": "AttributeError",
     "evalue": "'Dog' object has no attribute 'name'",
     "output_type": "error",
     "traceback": [
      "\u001b[0;31m---------------------------------------------------------------------------\u001b[0m",
      "\u001b[0;31mAttributeError\u001b[0m                            Traceback (most recent call last)",
      "Cell \u001b[0;32mIn[10], line 2\u001b[0m\n\u001b[1;32m      1\u001b[0m tommy_2 \u001b[38;5;241m=\u001b[39m Dog()\n\u001b[0;32m----> 2\u001b[0m tommy_2\u001b[38;5;241m.\u001b[39mhear(\u001b[38;5;124m\"\u001b[39m\u001b[38;5;124mtommy_2, come here!\u001b[39m\u001b[38;5;124m\"\u001b[39m)\n",
      "Cell \u001b[0;32mIn[8], line 18\u001b[0m, in \u001b[0;36mDog.hear\u001b[0;34m(self, words)\u001b[0m\n\u001b[1;32m     17\u001b[0m \u001b[38;5;28;01mdef\u001b[39;00m \u001b[38;5;21mhear\u001b[39m(\u001b[38;5;28mself\u001b[39m, words):\n\u001b[0;32m---> 18\u001b[0m     \u001b[38;5;28;01mif\u001b[39;00m \u001b[38;5;28mself\u001b[39m\u001b[38;5;241m.\u001b[39mname \u001b[38;5;129;01min\u001b[39;00m words:\n\u001b[1;32m     19\u001b[0m         \u001b[38;5;28mself\u001b[39m\u001b[38;5;241m.\u001b[39mspeak()\n",
      "\u001b[0;31mAttributeError\u001b[0m: 'Dog' object has no attribute 'name'"
     ]
    }
   ],
   "source": [
    "tommy_2 = Dog()\n",
    "tommy_2.hear(\"tommy_2, come here!\")"
   ]
  },
  {
   "cell_type": "code",
   "execution_count": 11,
   "metadata": {},
   "outputs": [],
   "source": [
    "# how to solve the problem\n",
    "class Dog:\n",
    "    scientific_name = \"Canis lupus familiaris\"\n",
    "\n",
    "    def __init__(self, name):\n",
    "        self.name = name\n",
    "\n",
    "    def speak(self):\n",
    "        print(\"Woof!\")\n",
    "\n",
    "    def eat(self, food):\n",
    "        if food == \"biscuit\":\n",
    "            print(\"Yummy!\")\n",
    "        else:\n",
    "            print(\"That's not food!\")\n",
    "\n",
    "    def hear(self, words):\n",
    "        if self.name in words:\n",
    "            self.speak()"
   ]
  },
  {
   "cell_type": "code",
   "execution_count": 12,
   "metadata": {},
   "outputs": [
    {
     "name": "stdout",
     "output_type": "stream",
     "text": [
      "Woof!\n"
     ]
    }
   ],
   "source": [
    "tommy_3 = Dog(\"tommy_3\")\n",
    "tommy_3.hear(\"tommy_3, come here!\")"
   ]
  },
  {
   "cell_type": "code",
   "execution_count": 13,
   "metadata": {},
   "outputs": [],
   "source": [
    "class Cat:\n",
    "\n",
    "    def __init__(self):\n",
    "        self.mood = \"neutral\"\n",
    "    \n",
    "    def speak(self):\n",
    "        print(\"Meow!\")"
   ]
  },
  {
   "cell_type": "code",
   "execution_count": 14,
   "metadata": {},
   "outputs": [
    {
     "name": "stdout",
     "output_type": "stream",
     "text": [
      "Meow!\n"
     ]
    }
   ],
   "source": [
    "misty = Cat()\n",
    "misty.speak()"
   ]
  },
  {
   "cell_type": "code",
   "execution_count": 15,
   "metadata": {},
   "outputs": [],
   "source": [
    "class Cat:\n",
    "\n",
    "    def __init__(self):\n",
    "        self.mood = \"neutral\"\n",
    "    \n",
    "    def speak(self):\n",
    "        if self.mood == \"happy\":\n",
    "            print(\"Purrr\")\n",
    "        elif self.mood == \"angry\":\n",
    "            print(\"Hiss!\")\n",
    "        else:\n",
    "            print(\"Meow!\")"
   ]
  },
  {
   "cell_type": "code",
   "execution_count": 16,
   "metadata": {},
   "outputs": [
    {
     "name": "stdout",
     "output_type": "stream",
     "text": [
      "Purrr\n",
      "Hiss!\n",
      "Meow!\n"
     ]
    }
   ],
   "source": [
    "mittens = Cat()\n",
    "mittens.mood = \"happy\"\n",
    "mittens.speak()\n",
    "mittens.mood = \"angry\"\n",
    "mittens.speak() \n",
    "mittens.mood = \"neutral\"\n",
    "mittens.speak()"
   ]
  },
  {
   "cell_type": "code",
   "execution_count": 17,
   "metadata": {},
   "outputs": [],
   "source": [
    "class Dog:\n",
    "\n",
    "    scientific_name = \"Canis lupus familiaris\"\n",
    "\n",
    "    def __init__(self, name):\n",
    "        self.name = name\n",
    "        self.woofs = 0\n",
    "\n",
    "    def speak(self):\n",
    "        print(\"Woof!\")\n",
    "\n",
    "    # def learn_name(self, foo):\n",
    "    #     self.foo = name\n",
    "\n",
    "    def hear(self, words):\n",
    "        if self.name in words:\n",
    "            self.speak()\n",
    "\n",
    "    def count(self):\n",
    "        self.woofs += 1\n",
    "        for bark in range(self.woofs):\n",
    "            self.speak()"
   ]
  },
  {
   "cell_type": "code",
   "execution_count": 18,
   "metadata": {},
   "outputs": [
    {
     "name": "stdout",
     "output_type": "stream",
     "text": [
      "Woof!\n",
      "Woof!\n",
      "Woof!\n"
     ]
    }
   ],
   "source": [
    "doggy = Dog(\"doggy\")\n",
    "doggy.count()\n",
    "doggy.count()"
   ]
  },
  {
   "cell_type": "code",
   "execution_count": 19,
   "metadata": {},
   "outputs": [
    {
     "name": "stdout",
     "output_type": "stream",
     "text": [
      "Woof!\n",
      "Woof!\n",
      "Woof!\n"
     ]
    }
   ],
   "source": [
    "doggy.count()"
   ]
  },
  {
   "cell_type": "code",
   "execution_count": null,
   "metadata": {},
   "outputs": [],
   "source": []
  }
 ],
 "metadata": {
  "kernelspec": {
   "display_name": "base",
   "language": "python",
   "name": "python3"
  },
  "language_info": {
   "codemirror_mode": {
    "name": "ipython",
    "version": 3
   },
   "file_extension": ".py",
   "mimetype": "text/x-python",
   "name": "python",
   "nbconvert_exporter": "python",
   "pygments_lexer": "ipython3",
   "version": "3.12.4"
  }
 },
 "nbformat": 4,
 "nbformat_minor": 2
}
