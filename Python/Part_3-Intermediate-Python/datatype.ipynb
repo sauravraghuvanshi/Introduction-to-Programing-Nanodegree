{
 "cells": [
  {
   "cell_type": "code",
   "execution_count": 1,
   "id": "54d01991",
   "metadata": {},
   "outputs": [
    {
     "name": "stdout",
     "output_type": "stream",
     "text": [
      "Toyota ['Prius', 'Avalon', 'Camry', 'Tacoma']\n"
     ]
    }
   ],
   "source": [
    "make = ['Honda', 'Toyota', 'Ford', 'Tesla']\n",
    "model = ['Fit', 'Civic', 'Prius', 'Avalon', 'Camry', 'Tacoma', 'Mustang', 'Fiesta', 'F-150', 'S', '3', 'X', 'Y']\n",
    "\n",
    "\n",
    "print(make[1], model[2:6])"
   ]
  },
  {
   "cell_type": "code",
   "execution_count": null,
   "id": "ca3a1c05",
   "metadata": {},
   "outputs": [
    {
     "name": "stdout",
     "output_type": "stream",
     "text": [
      "0 0\n",
      "1 1\n",
      "2 1\n",
      "3 2\n",
      "4 3\n",
      "5 5\n",
      "6 8\n",
      "7 13\n",
      "8 21\n",
      "9 34\n"
     ]
    }
   ],
   "source": [
    "## febonacci\n",
    "a, b = 0, 1\n",
    "for i in range(10):\n",
    "    print(i, a)\n",
    "    a, b = b, a + b"
   ]
  },
  {
   "cell_type": "code",
   "execution_count": null,
   "id": "5d2b25e7",
   "metadata": {},
   "outputs": [],
   "source": []
  }
 ],
 "metadata": {
  "kernelspec": {
   "display_name": "base",
   "language": "python",
   "name": "python3"
  },
  "language_info": {
   "codemirror_mode": {
    "name": "ipython",
    "version": 3
   },
   "file_extension": ".py",
   "mimetype": "text/x-python",
   "name": "python",
   "nbconvert_exporter": "python",
   "pygments_lexer": "ipython3",
   "version": "3.12.4"
  }
 },
 "nbformat": 4,
 "nbformat_minor": 5
}
