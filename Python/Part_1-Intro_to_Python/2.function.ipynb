{
 "cells": [
  {
   "cell_type": "code",
   "execution_count": 2,
   "metadata": {},
   "outputs": [],
   "source": [
    "#range function\n",
    "import turtle\n",
    "amy = turtle.Turtle()\n",
    "for side in range(4):\n",
    "    amy.forward(100)\n",
    "    amy.left(90)\n"
   ]
  },
  {
   "cell_type": "code",
   "execution_count": 3,
   "metadata": {},
   "outputs": [],
   "source": [
    "t= turtle.Turtle()\n",
    "t.color(\"red\")\n",
    "t.width(5)\n",
    "\n",
    "for side in range(100):\n",
    "    t.forward(5)\n",
    "    t.right(360/100)"
   ]
  },
  {
   "cell_type": "code",
   "execution_count": 4,
   "metadata": {},
   "outputs": [
    {
     "name": "stderr",
     "output_type": "stream",
     "text": [
      "2024-09-30 19:47:16.075 python[2192:55156] +[IMKClient subclass]: chose IMKClient_Legacy\n",
      "2024-09-30 19:47:16.403 python[2192:55156] +[IMKInputSession subclass]: chose IMKInputSession_Legacy\n"
     ]
    }
   ],
   "source": [
    "sides = 5\n",
    "length = 100\n",
    "t = turtle.Turtle()\n",
    "t.color(\"orange\")\n",
    "for side in range(sides):\n",
    "    t.forward(length)\n",
    "    t.right(360 / sides)\n"
   ]
  },
  {
   "cell_type": "code",
   "execution_count": 5,
   "metadata": {},
   "outputs": [],
   "source": [
    "#function\n",
    "\n",
    "import turtle\n",
    "\n",
    "def spiral():\n",
    "    t = turtle.Turtle()\n",
    "    t.width(5)\n",
    "    t.speed(0)\n",
    "    t.color(\"blue\")\n",
    "    for n in range(100):\n",
    "        t.forward(n)\n",
    "        t.right(20)\n",
    "\n",
    "spiral()"
   ]
  },
  {
   "cell_type": "code",
   "execution_count": 6,
   "metadata": {},
   "outputs": [
    {
     "ename": "",
     "evalue": "",
     "output_type": "error",
     "traceback": [
      "\u001b[1;31mThe Kernel crashed while executing code in the current cell or a previous cell. \n",
      "\u001b[1;31mPlease review the code in the cell(s) to identify a possible cause of the failure. \n",
      "\u001b[1;31mClick <a href='https://aka.ms/vscodeJupyterKernelCrash'>here</a> for more info. \n",
      "\u001b[1;31mView Jupyter <a href='command:jupyter.viewOutput'>log</a> for further details."
     ]
    }
   ],
   "source": [
    "import turtle\n",
    "\n",
    "def spiral(sides, turn, color, width):\n",
    "    t = turtle.Turtle()\n",
    "    t.color(color)\n",
    "    t.width(width)\n",
    "    for n in range(sides):\n",
    "        t.forward(n)\n",
    "        t.right(turn)\n",
    "\n",
    "spiral(100, 45, \"blue\", 5)"
   ]
  },
  {
   "cell_type": "code",
   "execution_count": 1,
   "metadata": {},
   "outputs": [
    {
     "name": "stderr",
     "output_type": "stream",
     "text": [
      "2024-09-30 23:56:51.271 python[22104:263998] +[IMKClient subclass]: chose IMKClient_Legacy\n",
      "2024-09-30 23:56:51.271 python[22104:263998] +[IMKInputSession subclass]: chose IMKInputSession_Legacy\n"
     ]
    }
   ],
   "source": [
    "import turtle\n",
    "t = turtle.Turtle()\n",
    "t.width(5)\n",
    "t.color(\"limegreen\")\n",
    "for step in range(21):\n",
    "  t.forward(10)  # just one!\n",
    "  # Alternate turning left and right.\n",
    "  if step % 2 == 0:\n",
    "    t.left(90)\n",
    "  else:\n",
    "    t.right(90)\n",
    "t.hideturtle()\n"
   ]
  },
  {
   "cell_type": "code",
   "execution_count": 2,
   "metadata": {},
   "outputs": [
    {
     "ename": "",
     "evalue": "",
     "output_type": "error",
     "traceback": [
      "\u001b[1;31mThe Kernel crashed while executing code in the current cell or a previous cell. \n",
      "\u001b[1;31mPlease review the code in the cell(s) to identify a possible cause of the failure. \n",
      "\u001b[1;31mClick <a href='https://aka.ms/vscodeJupyterKernelCrash'>here</a> for more info. \n",
      "\u001b[1;31mView Jupyter <a href='command:jupyter.viewOutput'>log</a> for further details."
     ]
    }
   ],
   "source": [
    "import turtle\n",
    "t = turtle.Turtle()\n",
    "t.width(5)\n",
    "for n in range(12):\n",
    "    t.color(\"gray\")\n",
    "    if n % 3 == 0:\n",
    "        t.color(\"red\")\n",
    "    if n % 3 == 1:\n",
    "        t.color(\"orange\")\n",
    "    if n % 3 == 2:\n",
    "        t.color(\"yellow\")\n",
    "    t.forward(50)\n",
    "    t.right(360/12)\n"
   ]
  },
  {
   "cell_type": "code",
   "execution_count": null,
   "metadata": {},
   "outputs": [],
   "source": []
  }
 ],
 "metadata": {
  "kernelspec": {
   "display_name": "base",
   "language": "python",
   "name": "python3"
  },
  "language_info": {
   "codemirror_mode": {
    "name": "ipython",
    "version": 3
   },
   "file_extension": ".py",
   "mimetype": "text/x-python",
   "name": "python",
   "nbconvert_exporter": "python",
   "pygments_lexer": "ipython3",
   "version": "3.12.4"
  }
 },
 "nbformat": 4,
 "nbformat_minor": 2
}
