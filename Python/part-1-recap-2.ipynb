{
 "cells": [
  {
   "cell_type": "code",
   "execution_count": null,
   "metadata": {},
   "outputs": [
    {
     "name": "stderr",
     "output_type": "stream",
     "text": [
      "2025-02-17 23:18:23.369 python[5350:116231] +[IMKClient subclass]: chose IMKClient_Modern\n",
      "2025-02-17 23:18:23.369 python[5350:116231] +[IMKInputSession subclass]: chose IMKInputSession_Modern\n"
     ]
    },
    {
     "ename": "",
     "evalue": "",
     "output_type": "error",
     "traceback": [
      "\u001b[1;31mThe Kernel crashed while executing code in the current cell or a previous cell. \n",
      "\u001b[1;31mPlease review the code in the cell(s) to identify a possible cause of the failure. \n",
      "\u001b[1;31mClick <a href='https://aka.ms/vscodeJupyterKernelCrash'>here</a> for more info. \n",
      "\u001b[1;31mView Jupyter <a href='command:jupyter.viewOutput'>log</a> for further details."
     ]
    }
   ],
   "source": [
    "import turtle\n",
    "\n",
    "alex = turtle.Turtle()\n",
    "alex.color(\"blue\")\n",
    "alex.forward(100)\n",
    "alex.left(90)\n",
    "alex.forward(100)\n",
    "alex.left(90)\n",
    "alex.forward(100)\n",
    "alex.left(90)\n",
    "alex.forward(100)\n",
    "alex.left(90)"
   ]
  },
  {
   "cell_type": "code",
   "execution_count": null,
   "metadata": {},
   "outputs": [],
   "source": [
    "import turtle \n",
    "\n",
    "grovey = turtle.Turtle()\n",
    "grovey.color(\"green\")   \n",
    "\n",
    "for i in range(4):\n",
    "    grovey.forward(100)\n",
    "    grovey.left(90)"
   ]
  },
  {
   "cell_type": "code",
   "execution_count": 1,
   "metadata": {},
   "outputs": [
    {
     "name": "stderr",
     "output_type": "stream",
     "text": [
      "2025-02-18 23:29:24.395 python[2877:53795] +[IMKClient subclass]: chose IMKClient_Modern\n",
      "2025-02-18 23:29:24.395 python[2877:53795] +[IMKInputSession subclass]: chose IMKInputSession_Modern\n"
     ]
    }
   ],
   "source": [
    "import turtle\n",
    "paul = turtle.Turtle()\n",
    "for side in [1, 2, 3, 4]:\n",
    "    paul.forward(100)\n",
    "    paul.right(90)\n",
    "    for side in [1, 2, 3, 4]:\n",
    "        paul.forward(10)\n",
    "        paul.right(90)"
   ]
  },
  {
   "cell_type": "code",
   "execution_count": null,
   "metadata": {},
   "outputs": [
    {
     "ename": "",
     "evalue": "",
     "output_type": "error",
     "traceback": [
      "\u001b[1;31mThe Kernel crashed while executing code in the current cell or a previous cell. \n",
      "\u001b[1;31mPlease review the code in the cell(s) to identify a possible cause of the failure. \n",
      "\u001b[1;31mClick <a href='https://aka.ms/vscodeJupyterKernelCrash'>here</a> for more info. \n",
      "\u001b[1;31mView Jupyter <a href='command:jupyter.viewOutput'>log</a> for further details."
     ]
    }
   ],
   "source": [
    "import turtle\n",
    "\n",
    "rainbow = [\"red\", \"orange\", \"yellow\", \"green\", \"blue\", \"purple\"]\n",
    "\n",
    "# Write whatever code you want here!\n",
    "stars = turtle.Turtle()\n",
    "stars.width(5)\n",
    "stars.speed(0)\n",
    "for color in rainbow:\n",
    "    stars.color(color)\n",
    "    for side in [1, 2, 3, 4, 5]:\n",
    "        stars.forward(50)\n",
    "        stars.right(144)\n",
    "    stars.right(60)\n",
    "    stars.penup()\n",
    "    stars.forward(50)\n",
    "    stars.pendown()"
   ]
  },
  {
   "cell_type": "markdown",
   "metadata": {},
   "source": [
    "#Function"
   ]
  },
  {
   "cell_type": "code",
   "execution_count": 1,
   "metadata": {},
   "outputs": [
    {
     "name": "stderr",
     "output_type": "stream",
     "text": [
      "2025-02-19 21:05:56.968 python[2813:80760] +[IMKClient subclass]: chose IMKClient_Modern\n",
      "2025-02-19 21:05:56.968 python[2813:80760] +[IMKInputSession subclass]: chose IMKInputSession_Modern\n"
     ]
    }
   ],
   "source": [
    "import turtle\n",
    "t = turtle.Turtle()\n",
    "t.color(\"cyan\")\n",
    "\n",
    "for side in range(19):\n",
    "    t.forward(side*10)\n",
    "    t.right(120)"
   ]
  },
  {
   "cell_type": "code",
   "execution_count": 2,
   "metadata": {},
   "outputs": [],
   "source": [
    "import turtle\n",
    "\n",
    "def spiral():\n",
    "    t = turtle.Turtle()\n",
    "    t.color(\"cyan\")\n",
    "    for n in range(100):\n",
    "        t.forward(n)\n",
    "        t.right(20)\n",
    "\n",
    "spiral()"
   ]
  },
  {
   "cell_type": "code",
   "execution_count": 3,
   "metadata": {},
   "outputs": [],
   "source": [
    "import turtle\n",
    "jack = turtle.Turtle()\n",
    "jack.color(\"yellow\")\n",
    "    \n",
    "def draw_square(length, color):\n",
    "    for side in range(4):\n",
    "        jack.color(color)\n",
    "        jack.forward(length)\n",
    "        jack.right(90)\n",
    "\n",
    "draw_square(100, \"cyan\")\n",
    "draw_square(50, \"magenta\")\n",
    "draw_square(25, \"yellow\")"
   ]
  },
  {
   "cell_type": "code",
   "execution_count": 1,
   "metadata": {},
   "outputs": [],
   "source": [
    "import turtle\n",
    "jack = turtle.Turtle()\n",
    "\n",
    "def draw_shape(length, color, sides):\n",
    "    jack.color(color)\n",
    "    for side in range(sides):\n",
    "        jack.forward(length)\n",
    "        jack.right(360/sides)\n",
    "\n",
    "draw_shape(100, \"cyan\", 5)"
   ]
  },
  {
   "cell_type": "code",
   "execution_count": null,
   "metadata": {},
   "outputs": [
    {
     "name": "stderr",
     "output_type": "stream",
     "text": [
      "2025-02-19 22:35:23.175 python[5285:153975] +[IMKClient subclass]: chose IMKClient_Modern\n",
      "2025-02-19 22:35:23.456 python[5285:153975] +[IMKInputSession subclass]: chose IMKInputSession_Modern\n"
     ]
    },
    {
     "ename": "",
     "evalue": "",
     "output_type": "error",
     "traceback": [
      "\u001b[1;31mThe Kernel crashed while executing code in the current cell or a previous cell. \n",
      "\u001b[1;31mPlease review the code in the cell(s) to identify a possible cause of the failure. \n",
      "\u001b[1;31mClick <a href='https://aka.ms/vscodeJupyterKernelCrash'>here</a> for more info. \n",
      "\u001b[1;31mView Jupyter <a href='command:jupyter.viewOutput'>log</a> for further details."
     ]
    }
   ],
   "source": [
    "import turtle\n",
    "\n",
    "## This code works!\n",
    "\n",
    "def balloon(t, color):\n",
    "    t.speed(0)\n",
    "    t.color(color)\n",
    "\n",
    "    # Draw balloon body.\n",
    "    for side in range(30):\n",
    "        t.forward(10)\n",
    "        t.left(12)\n",
    "\n",
    "    # Draw balloon knot.\n",
    "    t.right(60)\n",
    "    for side in range(3):\n",
    "      t.forward(10)\n",
    "      t.right(120)\n",
    "    \n",
    "    # Draw balloon string.\n",
    "    t.color(\"gray\")\n",
    "    t.right(30)\n",
    "    t.forward(100)\n",
    "\n",
    "\n",
    "t = turtle.Turtle()\n",
    "\n",
    "t.penup()\n",
    "t.back(100)\n",
    "t.pendown()\n",
    "balloon(t, \"red\")\n",
    "\n",
    "t.penup()\n",
    "t.home()\n",
    "t.pendown()\n",
    "balloon(t, \"blue\")\n",
    "\n",
    "t.penup()\n",
    "t.home()\n",
    "t.forward(100)\n",
    "t.pendown()\n",
    "balloon(t, \"purple\")\n",
    "\n",
    "t.hideturtle()"
   ]
  },
  {
   "cell_type": "code",
   "execution_count": 1,
   "metadata": {},
   "outputs": [
    {
     "name": "stderr",
     "output_type": "stream",
     "text": [
      "2025-02-20 22:54:20.085 python[1918:22118] +[IMKClient subclass]: chose IMKClient_Modern\n",
      "2025-02-20 22:54:20.085 python[1918:22118] +[IMKInputSession subclass]: chose IMKInputSession_Modern\n"
     ]
    }
   ],
   "source": [
    "import turtle\n",
    "t = turtle.Turtle()\n",
    "t.width(5)\n",
    "t.color(\"limegreen\")\n",
    "\n",
    "for step in range(21):\n",
    "  t.forward(10)  # just one!\n",
    "\n",
    "  # Alternate turning left and right.\n",
    "  if step % 2 == 0:\n",
    "    t.left(90)\n",
    "  else:\n",
    "    t.right(90)\n",
    "\n",
    "t.hideturtle()"
   ]
  },
  {
   "cell_type": "code",
   "execution_count": 2,
   "metadata": {},
   "outputs": [],
   "source": [
    "import turtle\n",
    "\n",
    "t = turtle.Turtle()\n",
    "t.width(5)\n",
    "\n",
    "for n in range(12):\n",
    "    t.color(\"gray\")\n",
    "    if n % 3 == 0:\n",
    "        t.color(\"red\")\n",
    "    if n % 3 == 1:\n",
    "        t.color(\"orange\")\n",
    "    if n % 3 == 2:\n",
    "        t.color(\"yellow\")\n",
    "    t.forward(50)\n",
    "    t.right(360/12)"
   ]
  },
  {
   "cell_type": "code",
   "execution_count": 4,
   "metadata": {},
   "outputs": [],
   "source": [
    "import turtle\n",
    "t = turtle.Turtle()\n",
    "t.color(\"red\")\n",
    "t.width(1)\n",
    "t.speed(0)\n",
    "t.hideturtle()\n",
    "\n",
    "def square(number):\n",
    "    return number * number\n",
    "\n",
    "for n in range(540):\n",
    "    angle = square(n)\n",
    "    t.right(angle + .5)\n",
    "    t.forward(5)"
   ]
  },
  {
   "cell_type": "code",
   "execution_count": 5,
   "metadata": {},
   "outputs": [],
   "source": [
    "import turtle\n",
    "\n",
    "def polygon(sides, length):\n",
    "  t = turtle.Turtle()\n",
    "  t.color(\"lime\")\n",
    "  t.speed(0)\n",
    "  angle = 360 / sides\n",
    "  for side in range(sides):\n",
    "    t.forward(length)\n",
    "    t.right(angle)\n",
    "  t.hideturtle()\n",
    "\n",
    "for n in [3, 4, 5, 6, 7, 8, 9, 10, 11, 12, 13, 14]:\n",
    "    polygon(n, 35)"
   ]
  },
  {
   "cell_type": "code",
   "execution_count": null,
   "metadata": {},
   "outputs": [],
   "source": []
  }
 ],
 "metadata": {
  "kernelspec": {
   "display_name": "base",
   "language": "python",
   "name": "python3"
  },
  "language_info": {
   "codemirror_mode": {
    "name": "ipython",
    "version": 3
   },
   "file_extension": ".py",
   "mimetype": "text/x-python",
   "name": "python",
   "nbconvert_exporter": "python",
   "pygments_lexer": "ipython3",
   "version": "3.12.4"
  }
 },
 "nbformat": 4,
 "nbformat_minor": 2
}
